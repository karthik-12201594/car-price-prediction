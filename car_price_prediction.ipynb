{
 "cells": [
  {
   "cell_type": "markdown",
   "metadata": {},
   "source": [
    "# ------------------------------- Car Price Prediction -----------------------------------"
   ]
  },
  {
   "cell_type": "markdown",
   "metadata": {},
   "source": [
    "## Importing the required libraries"
   ]
  },
  {
   "cell_type": "code",
   "execution_count": 140,
   "metadata": {},
   "outputs": [],
   "source": [
    "import numpy as np\n",
    "import pandas as pd\n",
    "\n",
    "import matplotlib.pyplot as plt\n",
    "import seaborn as sns\n",
    "\n",
    "from sklearn.model_selection import train_test_split\n",
    "from sklearn.preprocessing import StandardScaler\n",
    "\n",
    "from sklearn.linear_model import LinearRegression\n",
    "import statsmodels.api as sm\n",
    "from sklearn.feature_selection import RFE\n",
    "from statsmodels.stats.outliers_influence import variance_inflation_factor\n",
    "from sklearn.metrics import r2_score\n",
    "from sklearn.metrics import mean_squared_error\n",
    "\n",
    "import warnings\n",
    "warnings.filterwarnings('ignore')\n",
    "\n"
   ]
  },
  {
   "cell_type": "markdown",
   "metadata": {},
   "source": [
    "## Importing the dataset"
   ]
  },
  {
   "cell_type": "code",
   "execution_count": 141,
   "metadata": {},
   "outputs": [
    {
     "data": {
      "text/html": [
       "<div>\n",
       "<style scoped>\n",
       "    .dataframe tbody tr th:only-of-type {\n",
       "        vertical-align: middle;\n",
       "    }\n",
       "\n",
       "    .dataframe tbody tr th {\n",
       "        vertical-align: top;\n",
       "    }\n",
       "\n",
       "    .dataframe thead th {\n",
       "        text-align: right;\n",
       "    }\n",
       "</style>\n",
       "<table border=\"1\" class=\"dataframe\">\n",
       "  <thead>\n",
       "    <tr style=\"text-align: right;\">\n",
       "      <th></th>\n",
       "      <th>car_ID</th>\n",
       "      <th>symboling</th>\n",
       "      <th>CarName</th>\n",
       "      <th>fueltype</th>\n",
       "      <th>aspiration</th>\n",
       "      <th>doornumber</th>\n",
       "      <th>carbody</th>\n",
       "      <th>drivewheel</th>\n",
       "      <th>enginelocation</th>\n",
       "      <th>wheelbase</th>\n",
       "      <th>...</th>\n",
       "      <th>enginesize</th>\n",
       "      <th>fuelsystem</th>\n",
       "      <th>boreratio</th>\n",
       "      <th>stroke</th>\n",
       "      <th>compressionratio</th>\n",
       "      <th>horsepower</th>\n",
       "      <th>peakrpm</th>\n",
       "      <th>citympg</th>\n",
       "      <th>highwaympg</th>\n",
       "      <th>price</th>\n",
       "    </tr>\n",
       "  </thead>\n",
       "  <tbody>\n",
       "    <tr>\n",
       "      <th>0</th>\n",
       "      <td>1</td>\n",
       "      <td>3</td>\n",
       "      <td>alfa-romero giulia</td>\n",
       "      <td>gas</td>\n",
       "      <td>std</td>\n",
       "      <td>two</td>\n",
       "      <td>convertible</td>\n",
       "      <td>rwd</td>\n",
       "      <td>front</td>\n",
       "      <td>88.6</td>\n",
       "      <td>...</td>\n",
       "      <td>130</td>\n",
       "      <td>mpfi</td>\n",
       "      <td>3.47</td>\n",
       "      <td>2.68</td>\n",
       "      <td>9.0</td>\n",
       "      <td>111</td>\n",
       "      <td>5000</td>\n",
       "      <td>21</td>\n",
       "      <td>27</td>\n",
       "      <td>13495.0</td>\n",
       "    </tr>\n",
       "    <tr>\n",
       "      <th>1</th>\n",
       "      <td>2</td>\n",
       "      <td>3</td>\n",
       "      <td>alfa-romero stelvio</td>\n",
       "      <td>gas</td>\n",
       "      <td>std</td>\n",
       "      <td>two</td>\n",
       "      <td>convertible</td>\n",
       "      <td>rwd</td>\n",
       "      <td>front</td>\n",
       "      <td>88.6</td>\n",
       "      <td>...</td>\n",
       "      <td>130</td>\n",
       "      <td>mpfi</td>\n",
       "      <td>3.47</td>\n",
       "      <td>2.68</td>\n",
       "      <td>9.0</td>\n",
       "      <td>111</td>\n",
       "      <td>5000</td>\n",
       "      <td>21</td>\n",
       "      <td>27</td>\n",
       "      <td>16500.0</td>\n",
       "    </tr>\n",
       "    <tr>\n",
       "      <th>2</th>\n",
       "      <td>3</td>\n",
       "      <td>1</td>\n",
       "      <td>alfa-romero Quadrifoglio</td>\n",
       "      <td>gas</td>\n",
       "      <td>std</td>\n",
       "      <td>two</td>\n",
       "      <td>hatchback</td>\n",
       "      <td>rwd</td>\n",
       "      <td>front</td>\n",
       "      <td>94.5</td>\n",
       "      <td>...</td>\n",
       "      <td>152</td>\n",
       "      <td>mpfi</td>\n",
       "      <td>2.68</td>\n",
       "      <td>3.47</td>\n",
       "      <td>9.0</td>\n",
       "      <td>154</td>\n",
       "      <td>5000</td>\n",
       "      <td>19</td>\n",
       "      <td>26</td>\n",
       "      <td>16500.0</td>\n",
       "    </tr>\n",
       "    <tr>\n",
       "      <th>3</th>\n",
       "      <td>4</td>\n",
       "      <td>2</td>\n",
       "      <td>audi 100 ls</td>\n",
       "      <td>gas</td>\n",
       "      <td>std</td>\n",
       "      <td>four</td>\n",
       "      <td>sedan</td>\n",
       "      <td>fwd</td>\n",
       "      <td>front</td>\n",
       "      <td>99.8</td>\n",
       "      <td>...</td>\n",
       "      <td>109</td>\n",
       "      <td>mpfi</td>\n",
       "      <td>3.19</td>\n",
       "      <td>3.40</td>\n",
       "      <td>10.0</td>\n",
       "      <td>102</td>\n",
       "      <td>5500</td>\n",
       "      <td>24</td>\n",
       "      <td>30</td>\n",
       "      <td>13950.0</td>\n",
       "    </tr>\n",
       "    <tr>\n",
       "      <th>4</th>\n",
       "      <td>5</td>\n",
       "      <td>2</td>\n",
       "      <td>audi 100ls</td>\n",
       "      <td>gas</td>\n",
       "      <td>std</td>\n",
       "      <td>four</td>\n",
       "      <td>sedan</td>\n",
       "      <td>4wd</td>\n",
       "      <td>front</td>\n",
       "      <td>99.4</td>\n",
       "      <td>...</td>\n",
       "      <td>136</td>\n",
       "      <td>mpfi</td>\n",
       "      <td>3.19</td>\n",
       "      <td>3.40</td>\n",
       "      <td>8.0</td>\n",
       "      <td>115</td>\n",
       "      <td>5500</td>\n",
       "      <td>18</td>\n",
       "      <td>22</td>\n",
       "      <td>17450.0</td>\n",
       "    </tr>\n",
       "  </tbody>\n",
       "</table>\n",
       "<p>5 rows × 26 columns</p>\n",
       "</div>"
      ],
      "text/plain": [
       "   car_ID  symboling                   CarName fueltype aspiration doornumber  \\\n",
       "0       1          3        alfa-romero giulia      gas        std        two   \n",
       "1       2          3       alfa-romero stelvio      gas        std        two   \n",
       "2       3          1  alfa-romero Quadrifoglio      gas        std        two   \n",
       "3       4          2               audi 100 ls      gas        std       four   \n",
       "4       5          2                audi 100ls      gas        std       four   \n",
       "\n",
       "       carbody drivewheel enginelocation  wheelbase  ...  enginesize  \\\n",
       "0  convertible        rwd          front       88.6  ...         130   \n",
       "1  convertible        rwd          front       88.6  ...         130   \n",
       "2    hatchback        rwd          front       94.5  ...         152   \n",
       "3        sedan        fwd          front       99.8  ...         109   \n",
       "4        sedan        4wd          front       99.4  ...         136   \n",
       "\n",
       "   fuelsystem  boreratio  stroke compressionratio horsepower  peakrpm citympg  \\\n",
       "0        mpfi       3.47    2.68              9.0        111     5000      21   \n",
       "1        mpfi       3.47    2.68              9.0        111     5000      21   \n",
       "2        mpfi       2.68    3.47              9.0        154     5000      19   \n",
       "3        mpfi       3.19    3.40             10.0        102     5500      24   \n",
       "4        mpfi       3.19    3.40              8.0        115     5500      18   \n",
       "\n",
       "   highwaympg    price  \n",
       "0          27  13495.0  \n",
       "1          27  16500.0  \n",
       "2          26  16500.0  \n",
       "3          30  13950.0  \n",
       "4          22  17450.0  \n",
       "\n",
       "[5 rows x 26 columns]"
      ]
     },
     "execution_count": 141,
     "metadata": {},
     "output_type": "execute_result"
    }
   ],
   "source": [
    "cars_data = pd.read_csv(\"car_price_assignment.csv\")\n",
    "\n",
    "cars_data.head()"
   ]
  },
  {
   "cell_type": "markdown",
   "metadata": {},
   "source": [
    "## Analyzing the dataset"
   ]
  },
  {
   "cell_type": "code",
   "execution_count": 142,
   "metadata": {},
   "outputs": [
    {
     "data": {
      "text/plain": [
       "(205, 26)"
      ]
     },
     "execution_count": 142,
     "metadata": {},
     "output_type": "execute_result"
    }
   ],
   "source": [
    "cars_data.shape"
   ]
  },
  {
   "cell_type": "code",
   "execution_count": 143,
   "metadata": {},
   "outputs": [
    {
     "name": "stdout",
     "output_type": "stream",
     "text": [
      "<class 'pandas.core.frame.DataFrame'>\n",
      "RangeIndex: 205 entries, 0 to 204\n",
      "Data columns (total 26 columns):\n",
      " #   Column            Non-Null Count  Dtype  \n",
      "---  ------            --------------  -----  \n",
      " 0   car_ID            205 non-null    int64  \n",
      " 1   symboling         205 non-null    int64  \n",
      " 2   CarName           205 non-null    object \n",
      " 3   fueltype          205 non-null    object \n",
      " 4   aspiration        205 non-null    object \n",
      " 5   doornumber        205 non-null    object \n",
      " 6   carbody           205 non-null    object \n",
      " 7   drivewheel        205 non-null    object \n",
      " 8   enginelocation    205 non-null    object \n",
      " 9   wheelbase         205 non-null    float64\n",
      " 10  carlength         205 non-null    float64\n",
      " 11  carwidth          205 non-null    float64\n",
      " 12  carheight         205 non-null    float64\n",
      " 13  curbweight        205 non-null    int64  \n",
      " 14  enginetype        205 non-null    object \n",
      " 15  cylindernumber    205 non-null    object \n",
      " 16  enginesize        205 non-null    int64  \n",
      " 17  fuelsystem        205 non-null    object \n",
      " 18  boreratio         205 non-null    float64\n",
      " 19  stroke            205 non-null    float64\n",
      " 20  compressionratio  205 non-null    float64\n",
      " 21  horsepower        205 non-null    int64  \n",
      " 22  peakrpm           205 non-null    int64  \n",
      " 23  citympg           205 non-null    int64  \n",
      " 24  highwaympg        205 non-null    int64  \n",
      " 25  price             205 non-null    float64\n",
      "dtypes: float64(8), int64(8), object(10)\n",
      "memory usage: 41.8+ KB\n"
     ]
    }
   ],
   "source": [
    "cars_data.info()"
   ]
  },
  {
   "cell_type": "code",
   "execution_count": 144,
   "metadata": {},
   "outputs": [
    {
     "data": {
      "text/html": [
       "<div>\n",
       "<style scoped>\n",
       "    .dataframe tbody tr th:only-of-type {\n",
       "        vertical-align: middle;\n",
       "    }\n",
       "\n",
       "    .dataframe tbody tr th {\n",
       "        vertical-align: top;\n",
       "    }\n",
       "\n",
       "    .dataframe thead th {\n",
       "        text-align: right;\n",
       "    }\n",
       "</style>\n",
       "<table border=\"1\" class=\"dataframe\">\n",
       "  <thead>\n",
       "    <tr style=\"text-align: right;\">\n",
       "      <th></th>\n",
       "      <th>car_ID</th>\n",
       "      <th>symboling</th>\n",
       "      <th>wheelbase</th>\n",
       "      <th>carlength</th>\n",
       "      <th>carwidth</th>\n",
       "      <th>carheight</th>\n",
       "      <th>curbweight</th>\n",
       "      <th>enginesize</th>\n",
       "      <th>boreratio</th>\n",
       "      <th>stroke</th>\n",
       "      <th>compressionratio</th>\n",
       "      <th>horsepower</th>\n",
       "      <th>peakrpm</th>\n",
       "      <th>citympg</th>\n",
       "      <th>highwaympg</th>\n",
       "      <th>price</th>\n",
       "    </tr>\n",
       "  </thead>\n",
       "  <tbody>\n",
       "    <tr>\n",
       "      <th>count</th>\n",
       "      <td>205.000000</td>\n",
       "      <td>205.000000</td>\n",
       "      <td>205.000000</td>\n",
       "      <td>205.000000</td>\n",
       "      <td>205.000000</td>\n",
       "      <td>205.000000</td>\n",
       "      <td>205.000000</td>\n",
       "      <td>205.000000</td>\n",
       "      <td>205.000000</td>\n",
       "      <td>205.000000</td>\n",
       "      <td>205.000000</td>\n",
       "      <td>205.000000</td>\n",
       "      <td>205.000000</td>\n",
       "      <td>205.000000</td>\n",
       "      <td>205.000000</td>\n",
       "      <td>205.000000</td>\n",
       "    </tr>\n",
       "    <tr>\n",
       "      <th>mean</th>\n",
       "      <td>103.000000</td>\n",
       "      <td>0.834146</td>\n",
       "      <td>98.756585</td>\n",
       "      <td>174.049268</td>\n",
       "      <td>65.907805</td>\n",
       "      <td>53.724878</td>\n",
       "      <td>2555.565854</td>\n",
       "      <td>126.907317</td>\n",
       "      <td>3.329756</td>\n",
       "      <td>3.255415</td>\n",
       "      <td>10.142537</td>\n",
       "      <td>104.117073</td>\n",
       "      <td>5125.121951</td>\n",
       "      <td>25.219512</td>\n",
       "      <td>30.751220</td>\n",
       "      <td>13276.710571</td>\n",
       "    </tr>\n",
       "    <tr>\n",
       "      <th>std</th>\n",
       "      <td>59.322565</td>\n",
       "      <td>1.245307</td>\n",
       "      <td>6.021776</td>\n",
       "      <td>12.337289</td>\n",
       "      <td>2.145204</td>\n",
       "      <td>2.443522</td>\n",
       "      <td>520.680204</td>\n",
       "      <td>41.642693</td>\n",
       "      <td>0.270844</td>\n",
       "      <td>0.313597</td>\n",
       "      <td>3.972040</td>\n",
       "      <td>39.544167</td>\n",
       "      <td>476.985643</td>\n",
       "      <td>6.542142</td>\n",
       "      <td>6.886443</td>\n",
       "      <td>7988.852332</td>\n",
       "    </tr>\n",
       "    <tr>\n",
       "      <th>min</th>\n",
       "      <td>1.000000</td>\n",
       "      <td>-2.000000</td>\n",
       "      <td>86.600000</td>\n",
       "      <td>141.100000</td>\n",
       "      <td>60.300000</td>\n",
       "      <td>47.800000</td>\n",
       "      <td>1488.000000</td>\n",
       "      <td>61.000000</td>\n",
       "      <td>2.540000</td>\n",
       "      <td>2.070000</td>\n",
       "      <td>7.000000</td>\n",
       "      <td>48.000000</td>\n",
       "      <td>4150.000000</td>\n",
       "      <td>13.000000</td>\n",
       "      <td>16.000000</td>\n",
       "      <td>5118.000000</td>\n",
       "    </tr>\n",
       "    <tr>\n",
       "      <th>25%</th>\n",
       "      <td>52.000000</td>\n",
       "      <td>0.000000</td>\n",
       "      <td>94.500000</td>\n",
       "      <td>166.300000</td>\n",
       "      <td>64.100000</td>\n",
       "      <td>52.000000</td>\n",
       "      <td>2145.000000</td>\n",
       "      <td>97.000000</td>\n",
       "      <td>3.150000</td>\n",
       "      <td>3.110000</td>\n",
       "      <td>8.600000</td>\n",
       "      <td>70.000000</td>\n",
       "      <td>4800.000000</td>\n",
       "      <td>19.000000</td>\n",
       "      <td>25.000000</td>\n",
       "      <td>7788.000000</td>\n",
       "    </tr>\n",
       "    <tr>\n",
       "      <th>50%</th>\n",
       "      <td>103.000000</td>\n",
       "      <td>1.000000</td>\n",
       "      <td>97.000000</td>\n",
       "      <td>173.200000</td>\n",
       "      <td>65.500000</td>\n",
       "      <td>54.100000</td>\n",
       "      <td>2414.000000</td>\n",
       "      <td>120.000000</td>\n",
       "      <td>3.310000</td>\n",
       "      <td>3.290000</td>\n",
       "      <td>9.000000</td>\n",
       "      <td>95.000000</td>\n",
       "      <td>5200.000000</td>\n",
       "      <td>24.000000</td>\n",
       "      <td>30.000000</td>\n",
       "      <td>10295.000000</td>\n",
       "    </tr>\n",
       "    <tr>\n",
       "      <th>75%</th>\n",
       "      <td>154.000000</td>\n",
       "      <td>2.000000</td>\n",
       "      <td>102.400000</td>\n",
       "      <td>183.100000</td>\n",
       "      <td>66.900000</td>\n",
       "      <td>55.500000</td>\n",
       "      <td>2935.000000</td>\n",
       "      <td>141.000000</td>\n",
       "      <td>3.580000</td>\n",
       "      <td>3.410000</td>\n",
       "      <td>9.400000</td>\n",
       "      <td>116.000000</td>\n",
       "      <td>5500.000000</td>\n",
       "      <td>30.000000</td>\n",
       "      <td>34.000000</td>\n",
       "      <td>16503.000000</td>\n",
       "    </tr>\n",
       "    <tr>\n",
       "      <th>max</th>\n",
       "      <td>205.000000</td>\n",
       "      <td>3.000000</td>\n",
       "      <td>120.900000</td>\n",
       "      <td>208.100000</td>\n",
       "      <td>72.300000</td>\n",
       "      <td>59.800000</td>\n",
       "      <td>4066.000000</td>\n",
       "      <td>326.000000</td>\n",
       "      <td>3.940000</td>\n",
       "      <td>4.170000</td>\n",
       "      <td>23.000000</td>\n",
       "      <td>288.000000</td>\n",
       "      <td>6600.000000</td>\n",
       "      <td>49.000000</td>\n",
       "      <td>54.000000</td>\n",
       "      <td>45400.000000</td>\n",
       "    </tr>\n",
       "  </tbody>\n",
       "</table>\n",
       "</div>"
      ],
      "text/plain": [
       "           car_ID   symboling   wheelbase   carlength    carwidth   carheight  \\\n",
       "count  205.000000  205.000000  205.000000  205.000000  205.000000  205.000000   \n",
       "mean   103.000000    0.834146   98.756585  174.049268   65.907805   53.724878   \n",
       "std     59.322565    1.245307    6.021776   12.337289    2.145204    2.443522   \n",
       "min      1.000000   -2.000000   86.600000  141.100000   60.300000   47.800000   \n",
       "25%     52.000000    0.000000   94.500000  166.300000   64.100000   52.000000   \n",
       "50%    103.000000    1.000000   97.000000  173.200000   65.500000   54.100000   \n",
       "75%    154.000000    2.000000  102.400000  183.100000   66.900000   55.500000   \n",
       "max    205.000000    3.000000  120.900000  208.100000   72.300000   59.800000   \n",
       "\n",
       "        curbweight  enginesize   boreratio      stroke  compressionratio  \\\n",
       "count   205.000000  205.000000  205.000000  205.000000        205.000000   \n",
       "mean   2555.565854  126.907317    3.329756    3.255415         10.142537   \n",
       "std     520.680204   41.642693    0.270844    0.313597          3.972040   \n",
       "min    1488.000000   61.000000    2.540000    2.070000          7.000000   \n",
       "25%    2145.000000   97.000000    3.150000    3.110000          8.600000   \n",
       "50%    2414.000000  120.000000    3.310000    3.290000          9.000000   \n",
       "75%    2935.000000  141.000000    3.580000    3.410000          9.400000   \n",
       "max    4066.000000  326.000000    3.940000    4.170000         23.000000   \n",
       "\n",
       "       horsepower      peakrpm     citympg  highwaympg         price  \n",
       "count  205.000000   205.000000  205.000000  205.000000    205.000000  \n",
       "mean   104.117073  5125.121951   25.219512   30.751220  13276.710571  \n",
       "std     39.544167   476.985643    6.542142    6.886443   7988.852332  \n",
       "min     48.000000  4150.000000   13.000000   16.000000   5118.000000  \n",
       "25%     70.000000  4800.000000   19.000000   25.000000   7788.000000  \n",
       "50%     95.000000  5200.000000   24.000000   30.000000  10295.000000  \n",
       "75%    116.000000  5500.000000   30.000000   34.000000  16503.000000  \n",
       "max    288.000000  6600.000000   49.000000   54.000000  45400.000000  "
      ]
     },
     "execution_count": 144,
     "metadata": {},
     "output_type": "execute_result"
    }
   ],
   "source": [
    "cars_data.describe()"
   ]
  },
  {
   "cell_type": "markdown",
   "metadata": {},
   "source": [
    "# Data Cleaning"
   ]
  },
  {
   "cell_type": "code",
   "execution_count": 145,
   "metadata": {},
   "outputs": [
    {
     "data": {
      "text/plain": [
       "0"
      ]
     },
     "execution_count": 145,
     "metadata": {},
     "output_type": "execute_result"
    }
   ],
   "source": [
    "cars_data.duplicated(subset = ['car_ID']).sum()"
   ]
  },
  {
   "cell_type": "code",
   "execution_count": 146,
   "metadata": {},
   "outputs": [],
   "source": [
    "cars_data = cars_data.drop(['car_ID'], axis =1)"
   ]
  },
  {
   "cell_type": "code",
   "execution_count": 147,
   "metadata": {},
   "outputs": [
    {
     "data": {
      "text/plain": [
       "symboling           0\n",
       "CarName             0\n",
       "fueltype            0\n",
       "aspiration          0\n",
       "doornumber          0\n",
       "carbody             0\n",
       "drivewheel          0\n",
       "enginelocation      0\n",
       "wheelbase           0\n",
       "carlength           0\n",
       "carwidth            0\n",
       "carheight           0\n",
       "curbweight          0\n",
       "enginetype          0\n",
       "cylindernumber      0\n",
       "enginesize          0\n",
       "fuelsystem          0\n",
       "boreratio           0\n",
       "stroke              0\n",
       "compressionratio    0\n",
       "horsepower          0\n",
       "peakrpm             0\n",
       "citympg             0\n",
       "highwaympg          0\n",
       "price               0\n",
       "dtype: int64"
      ]
     },
     "execution_count": 147,
     "metadata": {},
     "output_type": "execute_result"
    }
   ],
   "source": [
    "cars_data.isnull().sum()"
   ]
  },
  {
   "cell_type": "code",
   "execution_count": 148,
   "metadata": {},
   "outputs": [
    {
     "data": {
      "text/plain": [
       "symboling\n",
       " 0    67\n",
       " 1    54\n",
       " 2    32\n",
       " 3    27\n",
       "-1    22\n",
       "-2     3\n",
       "Name: count, dtype: int64"
      ]
     },
     "execution_count": 148,
     "metadata": {},
     "output_type": "execute_result"
    }
   ],
   "source": [
    "cars_data['symboling'].value_counts()"
   ]
  },
  {
   "cell_type": "markdown",
   "metadata": {},
   "source": [
    "#### The 'symboling' column is represented as the insurance risk rating i.e; +3 indicates that the auto is risky, -3 that it is probably pretty safe.   "
   ]
  },
  {
   "cell_type": "code",
   "execution_count": 149,
   "metadata": {},
   "outputs": [
    {
     "data": {
      "text/plain": [
       "<seaborn.axisgrid.PairGrid at 0x2468fb03220>"
      ]
     },
     "execution_count": 149,
     "metadata": {},
     "output_type": "execute_result"
    },
    {
     "data": {
      "image/png": "[encoded data removed]",
      "text/plain": [
       "<Figure size 180x180 with 1 Axes>"
      ]
     },
     "metadata": {
      "needs_background": "light"
     },
     "output_type": "display_data"
    }
   ],
   "source": [
    "sns.pairplot(y_vars = 'symboling', x_vars = 'price' ,data = cars_data)"
   ]
  },
  {
   "cell_type": "code",
   "execution_count": 150,
   "metadata": {},
   "outputs": [
    {
     "data": {
      "text/plain": [
       "CarName\n",
       "toyota corona           6\n",
       "toyota corolla          6\n",
       "peugeot 504             6\n",
       "subaru dl               4\n",
       "mitsubishi mirage g4    3\n",
       "                       ..\n",
       "mazda glc 4             1\n",
       "mazda rx2 coupe         1\n",
       "maxda glc deluxe        1\n",
       "maxda rx3               1\n",
       "volvo 246               1\n",
       "Name: count, Length: 147, dtype: int64"
      ]
     },
     "execution_count": 150,
     "metadata": {},
     "output_type": "execute_result"
    }
   ],
   "source": [
    "cars_data['CarName'].value_counts()"
   ]
  },
  {
   "cell_type": "markdown",
   "metadata": {},
   "source": [
    "#### From the above data we can infer that the car name comprises of two parts i.e; the car company and the car model. "
   ]
  },
  {
   "cell_type": "code",
   "execution_count": 151,
   "metadata": {},
   "outputs": [],
   "source": [
    "cars_data['car_company'] = cars_data['CarName'].apply(lambda x:x.split(' ')[0])"
   ]
  },
  {
   "cell_type": "code",
   "execution_count": 152,
   "metadata": {},
   "outputs": [
    {
     "data": {
      "text/html": [
       "<div>\n",
       "<style scoped>\n",
       "    .dataframe tbody tr th:only-of-type {\n",
       "        vertical-align: middle;\n",
       "    }\n",
       "\n",
       "    .dataframe tbody tr th {\n",
       "        vertical-align: top;\n",
       "    }\n",
       "\n",
       "    .dataframe thead th {\n",
       "        text-align: right;\n",
       "    }\n",
       "</style>\n",
       "<table border=\"1\" class=\"dataframe\">\n",
       "  <thead>\n",
       "    <tr style=\"text-align: right;\">\n",
       "      <th></th>\n",
       "      <th>symboling</th>\n",
       "      <th>CarName</th>\n",
       "      <th>fueltype</th>\n",
       "      <th>aspiration</th>\n",
       "      <th>doornumber</th>\n",
       "      <th>carbody</th>\n",
       "      <th>drivewheel</th>\n",
       "      <th>enginelocation</th>\n",
       "      <th>wheelbase</th>\n",
       "      <th>carlength</th>\n",
       "      <th>...</th>\n",
       "      <th>fuelsystem</th>\n",
       "      <th>boreratio</th>\n",
       "      <th>stroke</th>\n",
       "      <th>compressionratio</th>\n",
       "      <th>horsepower</th>\n",
       "      <th>peakrpm</th>\n",
       "      <th>citympg</th>\n",
       "      <th>highwaympg</th>\n",
       "      <th>price</th>\n",
       "      <th>car_company</th>\n",
       "    </tr>\n",
       "  </thead>\n",
       "  <tbody>\n",
       "    <tr>\n",
       "      <th>0</th>\n",
       "      <td>3</td>\n",
       "      <td>alfa-romero giulia</td>\n",
       "      <td>gas</td>\n",
       "      <td>std</td>\n",
       "      <td>two</td>\n",
       "      <td>convertible</td>\n",
       "      <td>rwd</td>\n",
       "      <td>front</td>\n",
       "      <td>88.6</td>\n",
       "      <td>168.8</td>\n",
       "      <td>...</td>\n",
       "      <td>mpfi</td>\n",
       "      <td>3.47</td>\n",
       "      <td>2.68</td>\n",
       "      <td>9.0</td>\n",
       "      <td>111</td>\n",
       "      <td>5000</td>\n",
       "      <td>21</td>\n",
       "      <td>27</td>\n",
       "      <td>13495.0</td>\n",
       "      <td>alfa-romero</td>\n",
       "    </tr>\n",
       "    <tr>\n",
       "      <th>1</th>\n",
       "      <td>3</td>\n",
       "      <td>alfa-romero stelvio</td>\n",
       "      <td>gas</td>\n",
       "      <td>std</td>\n",
       "      <td>two</td>\n",
       "      <td>convertible</td>\n",
       "      <td>rwd</td>\n",
       "      <td>front</td>\n",
       "      <td>88.6</td>\n",
       "      <td>168.8</td>\n",
       "      <td>...</td>\n",
       "      <td>mpfi</td>\n",
       "      <td>3.47</td>\n",
       "      <td>2.68</td>\n",
       "      <td>9.0</td>\n",
       "      <td>111</td>\n",
       "      <td>5000</td>\n",
       "      <td>21</td>\n",
       "      <td>27</td>\n",
       "      <td>16500.0</td>\n",
       "      <td>alfa-romero</td>\n",
       "    </tr>\n",
       "    <tr>\n",
       "      <th>2</th>\n",
       "      <td>1</td>\n",
       "      <td>alfa-romero Quadrifoglio</td>\n",
       "      <td>gas</td>\n",
       "      <td>std</td>\n",
       "      <td>two</td>\n",
       "      <td>hatchback</td>\n",
       "      <td>rwd</td>\n",
       "      <td>front</td>\n",
       "      <td>94.5</td>\n",
       "      <td>171.2</td>\n",
       "      <td>...</td>\n",
       "      <td>mpfi</td>\n",
       "      <td>2.68</td>\n",
       "      <td>3.47</td>\n",
       "      <td>9.0</td>\n",
       "      <td>154</td>\n",
       "      <td>5000</td>\n",
       "      <td>19</td>\n",
       "      <td>26</td>\n",
       "      <td>16500.0</td>\n",
       "      <td>alfa-romero</td>\n",
       "    </tr>\n",
       "    <tr>\n",
       "      <th>3</th>\n",
       "      <td>2</td>\n",
       "      <td>audi 100 ls</td>\n",
       "      <td>gas</td>\n",
       "      <td>std</td>\n",
       "      <td>four</td>\n",
       "      <td>sedan</td>\n",
       "      <td>fwd</td>\n",
       "      <td>front</td>\n",
       "      <td>99.8</td>\n",
       "      <td>176.6</td>\n",
       "      <td>...</td>\n",
       "      <td>mpfi</td>\n",
       "      <td>3.19</td>\n",
       "      <td>3.40</td>\n",
       "      <td>10.0</td>\n",
       "      <td>102</td>\n",
       "      <td>5500</td>\n",
       "      <td>24</td>\n",
       "      <td>30</td>\n",
       "      <td>13950.0</td>\n",
       "      <td>audi</td>\n",
       "    </tr>\n",
       "    <tr>\n",
       "      <th>4</th>\n",
       "      <td>2</td>\n",
       "      <td>audi 100ls</td>\n",
       "      <td>gas</td>\n",
       "      <td>std</td>\n",
       "      <td>four</td>\n",
       "      <td>sedan</td>\n",
       "      <td>4wd</td>\n",
       "      <td>front</td>\n",
       "      <td>99.4</td>\n",
       "      <td>176.6</td>\n",
       "      <td>...</td>\n",
       "      <td>mpfi</td>\n",
       "      <td>3.19</td>\n",
       "      <td>3.40</td>\n",
       "      <td>8.0</td>\n",
       "      <td>115</td>\n",
       "      <td>5500</td>\n",
       "      <td>18</td>\n",
       "      <td>22</td>\n",
       "      <td>17450.0</td>\n",
       "      <td>audi</td>\n",
       "    </tr>\n",
       "  </tbody>\n",
       "</table>\n",
       "<p>5 rows × 26 columns</p>\n",
       "</div>"
      ],
      "text/plain": [
       "   symboling                   CarName fueltype aspiration doornumber  \\\n",
       "0          3        alfa-romero giulia      gas        std        two   \n",
       "1          3       alfa-romero stelvio      gas        std        two   \n",
       "2          1  alfa-romero Quadrifoglio      gas        std        two   \n",
       "3          2               audi 100 ls      gas        std       four   \n",
       "4          2                audi 100ls      gas        std       four   \n",
       "\n",
       "       carbody drivewheel enginelocation  wheelbase  carlength  ...  \\\n",
       "0  convertible        rwd          front       88.6      168.8  ...   \n",
       "1  convertible        rwd          front       88.6      168.8  ...   \n",
       "2    hatchback        rwd          front       94.5      171.2  ...   \n",
       "3        sedan        fwd          front       99.8      176.6  ...   \n",
       "4        sedan        4wd          front       99.4      176.6  ...   \n",
       "\n",
       "   fuelsystem  boreratio  stroke compressionratio horsepower  peakrpm citympg  \\\n",
       "0        mpfi       3.47    2.68              9.0        111     5000      21   \n",
       "1        mpfi       3.47    2.68              9.0        111     5000      21   \n",
       "2        mpfi       2.68    3.47              9.0        154     5000      19   \n",
       "3        mpfi       3.19    3.40             10.0        102     5500      24   \n",
       "4        mpfi       3.19    3.40              8.0        115     5500      18   \n",
       "\n",
       "   highwaympg    price  car_company  \n",
       "0          27  13495.0  alfa-romero  \n",
       "1          27  16500.0  alfa-romero  \n",
       "2          26  16500.0  alfa-romero  \n",
       "3          30  13950.0         audi  \n",
       "4          22  17450.0         audi  \n",
       "\n",
       "[5 rows x 26 columns]"
      ]
     },
     "execution_count": 152,
     "metadata": {},
     "output_type": "execute_result"
    }
   ],
   "source": [
    "cars_data.head()"
   ]
  },
  {
   "cell_type": "code",
   "execution_count": 153,
   "metadata": {},
   "outputs": [],
   "source": [
    "cars_data = cars_data.drop(['CarName'], axis =1)"
   ]
  },
  {
   "cell_type": "code",
   "execution_count": 154,
   "metadata": {},
   "outputs": [
    {
     "data": {
      "text/plain": [
       "car_company\n",
       "toyota         31\n",
       "nissan         17\n",
       "mazda          15\n",
       "honda          13\n",
       "mitsubishi     13\n",
       "subaru         12\n",
       "peugeot        11\n",
       "volvo          11\n",
       "volkswagen      9\n",
       "dodge           9\n",
       "buick           8\n",
       "bmw             8\n",
       "audi            7\n",
       "plymouth        7\n",
       "saab            6\n",
       "isuzu           4\n",
       "porsche         4\n",
       "alfa-romero     3\n",
       "chevrolet       3\n",
       "jaguar          3\n",
       "vw              2\n",
       "maxda           2\n",
       "renault         2\n",
       "toyouta         1\n",
       "vokswagen       1\n",
       "Nissan          1\n",
       "mercury         1\n",
       "porcshce        1\n",
       "Name: count, dtype: int64"
      ]
     },
     "execution_count": 154,
     "metadata": {},
     "output_type": "execute_result"
    }
   ],
   "source": [
    "cars_data['car_company'].value_counts()"
   ]
  },
  {
   "cell_type": "markdown",
   "metadata": {},
   "source": [
    "#### From the above data we can see that some of car_company names has been misspelled. Hence we need to fix it."
   ]
  },
  {
   "cell_type": "code",
   "execution_count": 155,
   "metadata": {},
   "outputs": [],
   "source": [
    "cars_data['car_company'].replace('toyouta', 'toyota',inplace=True)\n",
    "cars_data['car_company'].replace('Nissan', 'nissan',inplace=True)\n",
    "cars_data['car_company'].replace('maxda', 'mazda',inplace=True)\n",
    "cars_data['car_company'].replace('vokswagen', 'volkswagen',inplace=True)\n",
    "cars_data['car_company'].replace('vw', 'volkswagen',inplace=True)\n",
    "cars_data['car_company'].replace('porcshce', 'porsche',inplace=True)"
   ]
  },
  {
   "cell_type": "code",
   "execution_count": 156,
   "metadata": {},
   "outputs": [
    {
     "data": {
      "text/plain": [
       "car_company\n",
       "toyota         32\n",
       "nissan         18\n",
       "mazda          17\n",
       "mitsubishi     13\n",
       "honda          13\n",
       "volkswagen     12\n",
       "subaru         12\n",
       "peugeot        11\n",
       "volvo          11\n",
       "dodge           9\n",
       "buick           8\n",
       "bmw             8\n",
       "audi            7\n",
       "plymouth        7\n",
       "saab            6\n",
       "porsche         5\n",
       "isuzu           4\n",
       "jaguar          3\n",
       "chevrolet       3\n",
       "alfa-romero     3\n",
       "renault         2\n",
       "mercury         1\n",
       "Name: count, dtype: int64"
      ]
     },
     "execution_count": 156,
     "metadata": {},
     "output_type": "execute_result"
    }
   ],
   "source": [
    "cars_data['car_company'].value_counts()"
   ]
  },
  {
   "cell_type": "code",
   "execution_count": 157,
   "metadata": {},
   "outputs": [
    {
     "data": {
      "text/plain": [
       "fueltype\n",
       "gas       185\n",
       "diesel     20\n",
       "Name: count, dtype: int64"
      ]
     },
     "execution_count": 157,
     "metadata": {},
     "output_type": "execute_result"
    }
   ],
   "source": [
    "cars_data['fueltype'].value_counts()"
   ]
  },
  {
   "cell_type": "code",
   "execution_count": 158,
   "metadata": {},
   "outputs": [
    {
     "data": {
      "text/plain": [
       "aspiration\n",
       "std      168\n",
       "turbo     37\n",
       "Name: count, dtype: int64"
      ]
     },
     "execution_count": 158,
     "metadata": {},
     "output_type": "execute_result"
    }
   ],
   "source": [
    "cars_data['aspiration'].value_counts()"
   ]
  },
  {
   "cell_type": "code",
   "execution_count": 159,
   "metadata": {},
   "outputs": [
    {
     "data": {
      "text/plain": [
       "doornumber\n",
       "four    115\n",
       "two      90\n",
       "Name: count, dtype: int64"
      ]
     },
     "execution_count": 159,
     "metadata": {},
     "output_type": "execute_result"
    }
   ],
   "source": [
    "cars_data['doornumber'].value_counts()"
   ]
  },
  {
   "cell_type": "markdown",
   "metadata": {},
   "source": [
    "#### Converting the doornumber variable into numeric variable"
   ]
  },
  {
   "cell_type": "code",
   "execution_count": 160,
   "metadata": {},
   "outputs": [],
   "source": [
    "def number_(x):\n",
    "    return x.map({'four':4, 'two': 2})\n",
    "    \n",
    "cars_data['doornumber'] = cars_data[['doornumber']].apply(number_)"
   ]
  },
  {
   "cell_type": "code",
   "execution_count": 161,
   "metadata": {},
   "outputs": [
    {
     "data": {
      "text/plain": [
       "doornumber\n",
       "4    115\n",
       "2     90\n",
       "Name: count, dtype: int64"
      ]
     },
     "execution_count": 161,
     "metadata": {},
     "output_type": "execute_result"
    }
   ],
   "source": [
    "cars_data['doornumber'].value_counts()"
   ]
  },
  {
   "cell_type": "code",
   "execution_count": 162,
   "metadata": {},
   "outputs": [
    {
     "data": {
      "text/plain": [
       "carbody\n",
       "sedan          96\n",
       "hatchback      70\n",
       "wagon          25\n",
       "hardtop         8\n",
       "convertible     6\n",
       "Name: count, dtype: int64"
      ]
     },
     "execution_count": 162,
     "metadata": {},
     "output_type": "execute_result"
    }
   ],
   "source": [
    "cars_data['carbody'].value_counts()"
   ]
  },
  {
   "cell_type": "code",
   "execution_count": 163,
   "metadata": {},
   "outputs": [
    {
     "data": {
      "text/plain": [
       "drivewheel\n",
       "fwd    120\n",
       "rwd     76\n",
       "4wd      9\n",
       "Name: count, dtype: int64"
      ]
     },
     "execution_count": 163,
     "metadata": {},
     "output_type": "execute_result"
    }
   ],
   "source": [
    "cars_data['drivewheel'].value_counts()"
   ]
  },
  {
   "cell_type": "code",
   "execution_count": 164,
   "metadata": {},
   "outputs": [
    {
     "data": {
      "text/plain": [
       "enginelocation\n",
       "front    202\n",
       "rear       3\n",
       "Name: count, dtype: int64"
      ]
     },
     "execution_count": 164,
     "metadata": {},
     "output_type": "execute_result"
    }
   ],
   "source": [
    "cars_data['enginelocation'].value_counts()"
   ]
  },
  {
   "cell_type": "code",
   "execution_count": 165,
   "metadata": {},
   "outputs": [
    {
     "data": {
      "text/plain": [
       "wheelbase\n",
       "94.5    21\n",
       "93.7    20\n",
       "95.7    13\n",
       "96.5     8\n",
       "97.3     7\n",
       "Name: count, dtype: int64"
      ]
     },
     "execution_count": 165,
     "metadata": {},
     "output_type": "execute_result"
    }
   ],
   "source": [
    "cars_data['wheelbase'].value_counts().head()"
   ]
  },
  {
   "cell_type": "code",
   "execution_count": 166,
   "metadata": {},
   "outputs": [
    {
     "data": {
      "image/png": "[encoded data removed]",
      "text/plain": [
       "<Figure size 432x288 with 1 Axes>"
      ]
     },
     "metadata": {
      "needs_background": "light"
     },
     "output_type": "display_data"
    }
   ],
   "source": [
    "sns.histplot(cars_data['wheelbase'])\n",
    "plt.show()"
   ]
  },
  {
   "cell_type": "code",
   "execution_count": 167,
   "metadata": {},
   "outputs": [
    {
     "data": {
      "text/plain": [
       "carlength\n",
       "157.3    15\n",
       "188.8    11\n",
       "171.7     7\n",
       "186.7     7\n",
       "166.3     7\n",
       "Name: count, dtype: int64"
      ]
     },
     "execution_count": 167,
     "metadata": {},
     "output_type": "execute_result"
    }
   ],
   "source": [
    "cars_data['carlength'].value_counts().head()"
   ]
  },
  {
   "cell_type": "code",
   "execution_count": null,
   "metadata": {},
   "outputs": [],
   "source": [
    "sns.histplot(cars_data['carlength'])\n",
    "plt.show()"
   ]
  },
  {
   "cell_type": "code",
   "execution_count": null,
   "metadata": {},
   "outputs": [],
   "source": [
    "cars_data['enginetype'].value_counts()"
   ]
  },
  {
   "cell_type": "code",
   "execution_count": null,
   "metadata": {},
   "outputs": [],
   "source": [
    "cars_data['cylindernumber'].value_counts()"
   ]
  },
  {
   "cell_type": "markdown",
   "metadata": {},
   "source": [
    "#### We need to convert this categorical variable into numerical variable. "
   ]
  },
  {
   "cell_type": "code",
   "execution_count": null,
   "metadata": {},
   "outputs": [],
   "source": [
    "def convert_number(x):\n",
    "    return x.map({'two':2, 'three':3, 'four':4,'five':5, 'six':6,'eight':8,'twelve':12})\n",
    "\n",
    "cars_data['cylindernumber'] = cars_data[['cylindernumber']].apply(convert_number)"
   ]
  },
  {
   "cell_type": "code",
   "execution_count": null,
   "metadata": {},
   "outputs": [],
   "source": [
    "cars_data['cylindernumber'].value_counts()"
   ]
  },
  {
   "cell_type": "code",
   "execution_count": null,
   "metadata": {},
   "outputs": [],
   "source": [
    "cars_data['fuelsystem'].value_counts()"
   ]
  },
  {
   "cell_type": "markdown",
   "metadata": {},
   "source": [
    "# Data Visualization"
   ]
  },
  {
   "cell_type": "code",
   "execution_count": null,
   "metadata": {},
   "outputs": [],
   "source": [
    "cars_numeric = cars_data.select_dtypes(include =['int64','float64'])\n",
    "cars_numeric.head()"
   ]
  },
  {
   "cell_type": "code",
   "execution_count": null,
   "metadata": {},
   "outputs": [],
   "source": [
    "plt.figure(figsize = (30,30))\n",
    "sns.pairplot(cars_numeric)\n",
    "plt.show()"
   ]
  },
  {
   "cell_type": "markdown",
   "metadata": {},
   "source": [
    "### Since there are a lot of columns in the dataset, we can't find out the correlation using the above plot between the variables. So for this we need to plot heatmap."
   ]
  },
  {
   "cell_type": "code",
   "execution_count": null,
   "metadata": {},
   "outputs": [],
   "source": [
    "import seaborn as sns\n",
    "import matplotlib.pyplot as plt\n",
    "\n",
    "# Select only numeric columns for correlation\n",
    "numeric_data = cars_data.select_dtypes(include=['float64', 'int64'])\n",
    "\n",
    "# Create the correlation matrix\n",
    "corr_matrix = numeric_data.corr()\n",
    "\n",
    "# Plot the heatmap\n",
    "plt.figure(figsize=(20, 20))\n",
    "sns.heatmap(corr_matrix, annot=True, cmap='YlGnBu')\n",
    "plt.show()\n"
   ]
  },
  {
   "cell_type": "markdown",
   "metadata": {},
   "source": [
    "### From the above plot we can infer the following data;\n",
    "\n",
    "#### Price is highly (positively) correlated with wheelbase, carlength, carwidth, curbweight, enginesize, horsepower.\n",
    "\n",
    "#### Price is negatively correlated to symboling, citympg and highwaympg.\n",
    "\n",
    "#### Also the cars having high mileage may fall in the 'economy' cars category, and are priced lower.\n",
    "\n",
    "#### There are many independent variables which are highly correlated: wheelbase, carlength, curbweight, enginesize etc.. all are positively correlated."
   ]
  },
  {
   "cell_type": "code",
   "execution_count": null,
   "metadata": {},
   "outputs": [],
   "source": [
    "categorical_cols = cars_data.select_dtypes(include = ['object'])\n",
    "categorical_cols.head()"
   ]
  },
  {
   "cell_type": "code",
   "execution_count": null,
   "metadata": {},
   "outputs": [],
   "source": [
    "plt.figure(figsize = (20,12))\n",
    "plt.subplot(3,3,1)\n",
    "sns.boxplot(x = 'fueltype', y = 'price', data = cars_data)\n",
    "plt.subplot(3,3,2)\n",
    "sns.boxplot(x = 'aspiration', y = 'price', data = cars_data)\n",
    "plt.subplot(3,3,3)\n",
    "sns.boxplot(x = 'carbody', y = 'price', data = cars_data)\n",
    "plt.subplot(3,3,4)\n",
    "sns.boxplot(x = 'drivewheel', y = 'price', data = cars_data)\n",
    "plt.subplot(3,3,5)\n",
    "sns.boxplot(x = 'enginelocation', y = 'price', data = cars_data)\n",
    "plt.subplot(3,3,6)\n",
    "sns.boxplot(x = 'enginetype', y = 'price', data = cars_data)\n",
    "plt.subplot(3,3,7)\n",
    "sns.boxplot(x = 'fuelsystem', y = 'price', data = cars_data)"
   ]
  },
  {
   "cell_type": "code",
   "execution_count": null,
   "metadata": {},
   "outputs": [],
   "source": [
    "plt.figure(figsize = (20,12))\n",
    "sns.boxplot(x = 'car_company', y = 'price', data = cars_data)"
   ]
  },
  {
   "cell_type": "markdown",
   "metadata": {},
   "source": [
    "1. From the price boxplot it is clear that the car companys with the most expensive vehicles in the dataset belong to Bmw,Buick,Jaguar and porsche.\n",
    "2. Whereas the lower priced cars belong to chevrolet\n",
    "3. The median price of gas vehicles is lower than that of Diesel Vehicles.\n",
    "4. 75th percentile of standard aspirated vehicles have a price lower than the median price of turbo aspirated vehicles. \n",
    "5. Two and four Door vehicles are almost equally priced. There are however some outliers in the price of two-door vehicles. \n",
    "6. Hatchback vehicles have the lowest median price of vehicles in the data set whereas hardtop vehicles have the highest median price.\n",
    "7. The price of vehicles with rear placed engines is significantly higher than the price of vehicles with front placed engines. \n",
    "8. Almost all vehicles in the dataset have engines placed in the front of the vehicle. However, the price of vehicles with rear placed engines is significantly higher than the price of vehicles with front placed engines. \n",
    "9. The median cost of eight cylinder vehicles is higher than other cylinder categories.\n",
    "10. It is clear that vehicles Multi-port Fuel Injection [MPFI] fuelsystem have the highest median price. There are also some outliers on the higher price side having MPFI systems.\n",
    "11. Vehicles with OHCV engine type falls under higher price range."
   ]
  },
  {
   "cell_type": "markdown",
   "metadata": {},
   "source": [
    "# Data Preprocessing"
   ]
  },
  {
   "cell_type": "code",
   "execution_count": null,
   "metadata": {},
   "outputs": [],
   "source": [
    "cars_dummies = pd.get_dummies(categorical_cols, drop_first = True)\n",
    "cars_dummies.head()"
   ]
  },
  {
   "cell_type": "code",
   "execution_count": null,
   "metadata": {},
   "outputs": [],
   "source": [
    "car_df  = pd.concat([cars_data, cars_dummies], axis =1)"
   ]
  },
  {
   "cell_type": "code",
   "execution_count": null,
   "metadata": {},
   "outputs": [],
   "source": [
    "car_df = car_df.drop(['fueltype', 'aspiration', 'carbody', 'drivewheel', 'enginelocation', 'enginetype', 'fuelsystem', 'car_company'], axis =1)"
   ]
  },
  {
   "cell_type": "code",
   "execution_count": null,
   "metadata": {},
   "outputs": [],
   "source": [
    "car_df.info()"
   ]
  },
  {
   "cell_type": "markdown",
   "metadata": {},
   "source": [
    "## Performing the train_test_split operation "
   ]
  },
  {
   "cell_type": "code",
   "execution_count": null,
   "metadata": {},
   "outputs": [],
   "source": [
    "df_train, df_test = train_test_split(car_df, train_size = 0.7, test_size = 0.3, random_state = 100)"
   ]
  },
  {
   "cell_type": "code",
   "execution_count": null,
   "metadata": {},
   "outputs": [],
   "source": [
    "df_train.shape"
   ]
  },
  {
   "cell_type": "code",
   "execution_count": null,
   "metadata": {},
   "outputs": [],
   "source": [
    "df_test.shape"
   ]
  },
  {
   "cell_type": "markdown",
   "metadata": {},
   "source": [
    "## Scaling the data using StandardScaler()"
   ]
  },
  {
   "cell_type": "code",
   "execution_count": null,
   "metadata": {},
   "outputs": [],
   "source": [
    "cars_numeric.columns"
   ]
  },
  {
   "cell_type": "code",
   "execution_count": null,
   "metadata": {},
   "outputs": [],
   "source": [
    "col_list = ['symboling', 'doornumber', 'wheelbase', 'carlength', 'carwidth','carheight', 'curbweight', 'cylindernumber', 'enginesize', 'boreratio',\n",
    "            'stroke', 'compressionratio', 'horsepower', 'peakrpm', 'citympg', 'highwaympg', 'price']"
   ]
  },
  {
   "cell_type": "code",
   "execution_count": null,
   "metadata": {},
   "outputs": [],
   "source": [
    "scaler = StandardScaler()"
   ]
  },
  {
   "cell_type": "code",
   "execution_count": null,
   "metadata": {},
   "outputs": [],
   "source": [
    "df_train[col_list] = scaler.fit_transform(df_train[col_list])"
   ]
  },
  {
   "cell_type": "code",
   "execution_count": null,
   "metadata": {},
   "outputs": [],
   "source": [
    "df_train.describe()"
   ]
  },
  {
   "cell_type": "markdown",
   "metadata": {},
   "source": [
    "# Model Building"
   ]
  },
  {
   "cell_type": "code",
   "execution_count": null,
   "metadata": {},
   "outputs": [],
   "source": [
    "y_train = df_train.pop('price')\n",
    "X_train = df_train"
   ]
  },
  {
   "cell_type": "markdown",
   "metadata": {},
   "source": [
    "## Performing feature selection using Recursive Feature Elimination (RFE)"
   ]
  },
  {
   "cell_type": "code",
   "execution_count": null,
   "metadata": {},
   "outputs": [],
   "source": [
    "from sklearn.feature_selection import RFE\n",
    "from sklearn.linear_model import LinearRegression\n",
    "\n",
    "# Assuming lr is defined as the LinearRegression model\n",
    "lr = LinearRegression()\n",
    "\n",
    "# Initialize RFE with estimator (lr) and the number of features to select (15)\n",
    "rfe = RFE(estimator=lr, n_features_to_select=15)\n",
    "\n",
    "# Fit the RFE model on the training data\n",
    "rfe.fit(X_train, y_train)\n"
   ]
  },
  {
   "cell_type": "code",
   "execution_count": null,
   "metadata": {},
   "outputs": [],
   "source": [
    "list(zip(X_train.columns,rfe.support_,rfe.ranking_))"
   ]
  },
  {
   "cell_type": "code",
   "execution_count": null,
   "metadata": {},
   "outputs": [],
   "source": [
    "cols = X_train.columns[rfe.support_]\n",
    "cols"
   ]
  },
  {
   "cell_type": "markdown",
   "metadata": {},
   "source": [
    "## Model 1"
   ]
  },
  {
   "cell_type": "code",
   "execution_count": null,
   "metadata": {},
   "outputs": [],
   "source": [
    "print(X1_sm.dtypes)\n",
    "print(y_train.dtype)\n"
   ]
  },
  {
   "cell_type": "code",
   "execution_count": null,
   "metadata": {},
   "outputs": [],
   "source": [
    "X1 = X1.astype(float)\n"
   ]
  },
  {
   "cell_type": "code",
   "execution_count": null,
   "metadata": {},
   "outputs": [],
   "source": [
    "# Drop any rows with NaNs in X1 or y_train\n",
    "combined = pd.concat([X1, y_train], axis=1).dropna()\n",
    "X1_clean = combined.drop(columns=y_train.name)\n",
    "y_clean = combined[y_train.name]\n",
    "\n",
    "# Add constant\n",
    "X1_sm = sm.add_constant(X1_clean)\n",
    "\n",
    "# Fit the model\n",
    "lr_1 = sm.OLS(y_clean, X1_sm).fit()\n",
    "print(lr_1.summary())\n"
   ]
  },
  {
   "cell_type": "code",
   "execution_count": null,
   "metadata": {},
   "outputs": [],
   "source": [
    "X1 = pd.get_dummies(X_train[cols], drop_first=True)\n",
    "\n",
    "# Convert all columns to float (required for statsmodels OLS)\n",
    "X1 = X1.astype(float)\n",
    "\n",
    "# Ensure y_train is numeric\n",
    "y_train = pd.to_numeric(y_train, errors='coerce')\n",
    "\n",
    "# Remove rows with NaN values in y_train\n",
    "valid_idx = y_train.notna()\n",
    "X1 = X1.loc[valid_idx]\n",
    "y_train = y_train.loc[valid_idx]\n",
    "\n",
    "# Add constant (intercept)\n",
    "X1_sm = sm.add_constant(X1)\n",
    "\n",
    "# Fit the model\n",
    "lr_1 = sm.OLS(y_train, X1_sm).fit()\n",
    "\n",
    "# Show summary\n",
    "print(lr_1.summary())\n"
   ]
  },
  {
   "cell_type": "code",
   "execution_count": null,
   "metadata": {},
   "outputs": [],
   "source": [
    "print(lr_1.summary())"
   ]
  },
  {
   "cell_type": "markdown",
   "metadata": {},
   "source": [
    "#### All the p- values are significant. Let us check VIF."
   ]
  },
  {
   "cell_type": "code",
   "execution_count": null,
   "metadata": {},
   "outputs": [],
   "source": [
    "X1 = X1.replace([np.inf, -np.inf], np.nan)  # Replace infinite values with NaN\n",
    "X1 = X1.fillna(X1.median())  # Replace NaN values with the median of each column\n"
   ]
  },
  {
   "cell_type": "code",
   "execution_count": null,
   "metadata": {},
   "outputs": [],
   "source": [
    "X1 = X1.astype(int)\n"
   ]
  },
  {
   "cell_type": "code",
   "execution_count": null,
   "metadata": {},
   "outputs": [],
   "source": [
    "from statsmodels.stats.outliers_influence import variance_inflation_factor\n",
    "\n",
    "vif = pd.DataFrame()\n",
    "vif['Features'] = X1.columns\n",
    "vif['VIF'] = [variance_inflation_factor(X1.values, i) for i in range(X1.shape[1])]\n",
    "vif['VIF'] = round(vif['VIF'], 2)\n",
    "vif = vif.sort_values(by='VIF', ascending=False)\n",
    "\n",
    "print(vif)\n"
   ]
  },
  {
   "cell_type": "markdown",
   "metadata": {},
   "source": [
    "#### VIF is Variance Inflation factor. quantifies the extent of correlation between one predictor and the other predictors in a model. It is used for diagnosing collinearity/multicollinearity. We see that there are a few variables which have an infinite/large VIF. These variables aren't of use. But manual elimination is time consuming and makes the code unnecessarily long. So let's try and build a model with 10 features this time using RFE."
   ]
  },
  {
   "cell_type": "markdown",
   "metadata": {},
   "source": [
    "### Now building the model with 10 variables."
   ]
  },
  {
   "cell_type": "code",
   "execution_count": null,
   "metadata": {},
   "outputs": [],
   "source": [
    "from sklearn.feature_selection import RFE\n",
    "from sklearn.linear_model import LinearRegression\n",
    "\n",
    "lr2 = LinearRegression()\n",
    "rfe2 = RFE(estimator=lr2, n_features_to_select=10)  # Correct initialization\n",
    "rfe2.fit(X_train, y_train)\n",
    "\n",
    "# Get the selected features\n",
    "selected_features = X_train.columns[rfe2.support_]\n",
    "print(selected_features)\n"
   ]
  },
  {
   "cell_type": "code",
   "execution_count": null,
   "metadata": {},
   "outputs": [],
   "source": [
    "list(zip(X_train.columns,rfe2.support_,rfe2.ranking_))"
   ]
  },
  {
   "cell_type": "code",
   "execution_count": null,
   "metadata": {},
   "outputs": [],
   "source": [
    "supported_cols = X_train.columns[rfe2.support_]\n",
    "supported_cols"
   ]
  },
  {
   "cell_type": "markdown",
   "metadata": {},
   "source": [
    "## Model 2"
   ]
  },
  {
   "cell_type": "code",
   "execution_count": null,
   "metadata": {},
   "outputs": [],
   "source": []
  },
  {
   "cell_type": "code",
   "execution_count": null,
   "metadata": {},
   "outputs": [],
   "source": []
  },
  {
   "cell_type": "code",
   "execution_count": 105,
   "metadata": {},
   "outputs": [
    {
     "name": "stdout",
     "output_type": "stream",
     "text": [
      "                            OLS Regression Results                            \n",
      "==============================================================================\n",
      "Dep. Variable:                  price   R-squared:                       0.920\n",
      "Model:                            OLS   Adj. R-squared:                  0.912\n",
      "Method:                 Least Squares   F-statistic:                     114.1\n",
      "Date:                Fri, 25 Apr 2025   Prob (F-statistic):           4.59e-64\n",
      "Time:                        11:58:36   Log-Likelihood:                -22.314\n",
      "No. Observations:                 143   AIC:                             72.63\n",
      "Df Residuals:                     129   BIC:                             114.1\n",
      "Df Model:                          13                                         \n",
      "Covariance Type:            nonrobust                                         \n",
      "==========================================================================================\n",
      "                             coef    std err          t      P>|t|      [0.025      0.975]\n",
      "------------------------------------------------------------------------------------------\n",
      "const                      0.4776      0.162      2.940      0.004       0.156       0.799\n",
      "carwidth                   0.4304      0.046      9.403      0.000       0.340       0.521\n",
      "enginesize                 0.4790      0.045     10.594      0.000       0.390       0.568\n",
      "compressionratio          -0.4505      0.162     -2.781      0.006      -0.771      -0.130\n",
      "fueltype_gas              -0.6269      0.208     -3.016      0.003      -1.038      -0.216\n",
      "enginelocation_rear        1.4894      0.211      7.071      0.000       1.073       1.906\n",
      "enginetype_l               0.8983      0.307      2.921      0.004       0.290       1.507\n",
      "enginetype_ohcf            0.6436      0.109      5.905      0.000       0.428       0.859\n",
      "enginetype_rotor           0.9536      0.188      5.076      0.000       0.582       1.325\n",
      "fuelsystem_idi             1.1045      0.369      2.995      0.003       0.375       1.834\n",
      "car_company_bmw            1.0678      0.131      8.141      0.000       0.808       1.327\n",
      "car_company_mazda         -0.2439      0.106     -2.299      0.023      -0.454      -0.034\n",
      "car_company_mitsubishi    -0.3956      0.112     -3.517      0.001      -0.618      -0.173\n",
      "car_company_peugeot       -1.4098      0.338     -4.171      0.000      -2.079      -0.741\n",
      "car_company_renault       -0.6778      0.214     -3.173      0.002      -1.100      -0.255\n",
      "car_company_subaru        -0.8458      0.122     -6.915      0.000      -1.088      -0.604\n",
      "==============================================================================\n",
      "Omnibus:                        8.408   Durbin-Watson:                   1.997\n",
      "Prob(Omnibus):                  0.015   Jarque-Bera (JB):                9.825\n",
      "Skew:                           0.399   Prob(JB):                      0.00735\n",
      "Kurtosis:                       4.005   Cond. No.                     3.60e+16\n",
      "==============================================================================\n",
      "\n",
      "Notes:\n",
      "[1] Standard Errors assume that the covariance matrix of the errors is correctly specified.\n",
      "[2] The smallest eigenvalue is 2.23e-31. This might indicate that there are\n",
      "strong multicollinearity problems or that the design matrix is singular.\n"
     ]
    }
   ],
   "source": [
    "# Assuming X2 is already defined (like a new set of features or filtered from X_train)\n",
    "X2 = pd.get_dummies(X_train[cols], drop_first=True)  # or however you define X2\n",
    "X2 = X2.astype(float)\n",
    "\n",
    "# Remove any rows where y_train is NaN\n",
    "valid_idx = y_train.notna()\n",
    "X2 = X2.loc[valid_idx]\n",
    "y_train_clean = y_train.loc[valid_idx].astype(float)  # safer to copy y_train into a clean variable\n",
    "\n",
    "# Add constant (intercept)\n",
    "X2_sm = sm.add_constant(X2)\n",
    "X2_sm = X2_sm.astype(float)\n",
    "\n",
    "# Fit the model\n",
    "model_2 = sm.OLS(y_train_clean, X2_sm).fit()\n",
    "\n",
    "# Show summary\n",
    "print(model_2.summary())\n"
   ]
  },
  {
   "cell_type": "code",
   "execution_count": 106,
   "metadata": {},
   "outputs": [
    {
     "name": "stdout",
     "output_type": "stream",
     "text": [
      "                            OLS Regression Results                            \n",
      "==============================================================================\n",
      "Dep. Variable:                  price   R-squared:                       0.920\n",
      "Model:                            OLS   Adj. R-squared:                  0.912\n",
      "Method:                 Least Squares   F-statistic:                     114.1\n",
      "Date:                Fri, 25 Apr 2025   Prob (F-statistic):           4.59e-64\n",
      "Time:                        11:58:40   Log-Likelihood:                -22.314\n",
      "No. Observations:                 143   AIC:                             72.63\n",
      "Df Residuals:                     129   BIC:                             114.1\n",
      "Df Model:                          13                                         \n",
      "Covariance Type:            nonrobust                                         \n",
      "==========================================================================================\n",
      "                             coef    std err          t      P>|t|      [0.025      0.975]\n",
      "------------------------------------------------------------------------------------------\n",
      "const                      0.4776      0.162      2.940      0.004       0.156       0.799\n",
      "carwidth                   0.4304      0.046      9.403      0.000       0.340       0.521\n",
      "enginesize                 0.4790      0.045     10.594      0.000       0.390       0.568\n",
      "compressionratio          -0.4505      0.162     -2.781      0.006      -0.771      -0.130\n",
      "fueltype_gas              -0.6269      0.208     -3.016      0.003      -1.038      -0.216\n",
      "enginelocation_rear        1.4894      0.211      7.071      0.000       1.073       1.906\n",
      "enginetype_l               0.8983      0.307      2.921      0.004       0.290       1.507\n",
      "enginetype_ohcf            0.6436      0.109      5.905      0.000       0.428       0.859\n",
      "enginetype_rotor           0.9536      0.188      5.076      0.000       0.582       1.325\n",
      "fuelsystem_idi             1.1045      0.369      2.995      0.003       0.375       1.834\n",
      "car_company_bmw            1.0678      0.131      8.141      0.000       0.808       1.327\n",
      "car_company_mazda         -0.2439      0.106     -2.299      0.023      -0.454      -0.034\n",
      "car_company_mitsubishi    -0.3956      0.112     -3.517      0.001      -0.618      -0.173\n",
      "car_company_peugeot       -1.4098      0.338     -4.171      0.000      -2.079      -0.741\n",
      "car_company_renault       -0.6778      0.214     -3.173      0.002      -1.100      -0.255\n",
      "car_company_subaru        -0.8458      0.122     -6.915      0.000      -1.088      -0.604\n",
      "==============================================================================\n",
      "Omnibus:                        8.408   Durbin-Watson:                   1.997\n",
      "Prob(Omnibus):                  0.015   Jarque-Bera (JB):                9.825\n",
      "Skew:                           0.399   Prob(JB):                      0.00735\n",
      "Kurtosis:                       4.005   Cond. No.                     3.60e+16\n",
      "==============================================================================\n",
      "\n",
      "Notes:\n",
      "[1] Standard Errors assume that the covariance matrix of the errors is correctly specified.\n",
      "[2] The smallest eigenvalue is 2.23e-31. This might indicate that there are\n",
      "strong multicollinearity problems or that the design matrix is singular.\n"
     ]
    }
   ],
   "source": [
    "import statsmodels.api as sm\n",
    "\n",
    "# Fit the model\n",
    "model_2 = sm.OLS(y_train, X2_sm).fit()\n",
    "\n",
    "# Summary of the regression results\n",
    "print(model_2.summary())\n"
   ]
  },
  {
   "cell_type": "code",
   "execution_count": 107,
   "metadata": {},
   "outputs": [
    {
     "name": "stdout",
     "output_type": "stream",
     "text": [
      "                            OLS Regression Results                            \n",
      "==============================================================================\n",
      "Dep. Variable:                  price   R-squared:                       0.920\n",
      "Model:                            OLS   Adj. R-squared:                  0.912\n",
      "Method:                 Least Squares   F-statistic:                     114.1\n",
      "Date:                Fri, 25 Apr 2025   Prob (F-statistic):           4.59e-64\n",
      "Time:                        11:58:42   Log-Likelihood:                -22.314\n",
      "No. Observations:                 143   AIC:                             72.63\n",
      "Df Residuals:                     129   BIC:                             114.1\n",
      "Df Model:                          13                                         \n",
      "Covariance Type:            nonrobust                                         \n",
      "==========================================================================================\n",
      "                             coef    std err          t      P>|t|      [0.025      0.975]\n",
      "------------------------------------------------------------------------------------------\n",
      "const                      0.4776      0.162      2.940      0.004       0.156       0.799\n",
      "carwidth                   0.4304      0.046      9.403      0.000       0.340       0.521\n",
      "enginesize                 0.4790      0.045     10.594      0.000       0.390       0.568\n",
      "compressionratio          -0.4505      0.162     -2.781      0.006      -0.771      -0.130\n",
      "fueltype_gas              -0.6269      0.208     -3.016      0.003      -1.038      -0.216\n",
      "enginelocation_rear        1.4894      0.211      7.071      0.000       1.073       1.906\n",
      "enginetype_l               0.8983      0.307      2.921      0.004       0.290       1.507\n",
      "enginetype_ohcf            0.6436      0.109      5.905      0.000       0.428       0.859\n",
      "enginetype_rotor           0.9536      0.188      5.076      0.000       0.582       1.325\n",
      "fuelsystem_idi             1.1045      0.369      2.995      0.003       0.375       1.834\n",
      "car_company_bmw            1.0678      0.131      8.141      0.000       0.808       1.327\n",
      "car_company_mazda         -0.2439      0.106     -2.299      0.023      -0.454      -0.034\n",
      "car_company_mitsubishi    -0.3956      0.112     -3.517      0.001      -0.618      -0.173\n",
      "car_company_peugeot       -1.4098      0.338     -4.171      0.000      -2.079      -0.741\n",
      "car_company_renault       -0.6778      0.214     -3.173      0.002      -1.100      -0.255\n",
      "car_company_subaru        -0.8458      0.122     -6.915      0.000      -1.088      -0.604\n",
      "==============================================================================\n",
      "Omnibus:                        8.408   Durbin-Watson:                   1.997\n",
      "Prob(Omnibus):                  0.015   Jarque-Bera (JB):                9.825\n",
      "Skew:                           0.399   Prob(JB):                      0.00735\n",
      "Kurtosis:                       4.005   Cond. No.                     3.60e+16\n",
      "==============================================================================\n",
      "\n",
      "Notes:\n",
      "[1] Standard Errors assume that the covariance matrix of the errors is correctly specified.\n",
      "[2] The smallest eigenvalue is 2.23e-31. This might indicate that there are\n",
      "strong multicollinearity problems or that the design matrix is singular.\n"
     ]
    }
   ],
   "source": [
    "print(model_2.summary())"
   ]
  },
  {
   "cell_type": "markdown",
   "metadata": {},
   "source": [
    "#### Now let us check the VIF for this model."
   ]
  },
  {
   "cell_type": "code",
   "execution_count": 108,
   "metadata": {},
   "outputs": [
    {
     "name": "stdout",
     "output_type": "stream",
     "text": [
      "Non-numeric columns:\n",
      " Index([], dtype='object')\n"
     ]
    }
   ],
   "source": [
    "non_numeric_cols = X2.select_dtypes(exclude=[np.number]).columns\n",
    "print(\"Non-numeric columns:\\n\", non_numeric_cols)\n"
   ]
  },
  {
   "cell_type": "code",
   "execution_count": 109,
   "metadata": {},
   "outputs": [],
   "source": [
    "for col in ['enginelocation_rear', 'enginetype_l', 'enginetype_ohcf',\n",
    "            'enginetype_rotor', 'car_company_bmw', 'car_company_peugeot',\n",
    "            'car_company_renault', 'car_company_subaru']:\n",
    "    X2[col] = pd.to_numeric(X2[col], errors='coerce')\n"
   ]
  },
  {
   "cell_type": "code",
   "execution_count": 110,
   "metadata": {},
   "outputs": [
    {
     "name": "stdout",
     "output_type": "stream",
     "text": [
      "carwidth                  float64\n",
      "enginesize                float64\n",
      "compressionratio          float64\n",
      "fueltype_gas              float64\n",
      "enginelocation_rear       float64\n",
      "enginetype_l              float64\n",
      "enginetype_ohcf           float64\n",
      "enginetype_rotor          float64\n",
      "fuelsystem_idi            float64\n",
      "car_company_bmw           float64\n",
      "car_company_mazda         float64\n",
      "car_company_mitsubishi    float64\n",
      "car_company_peugeot       float64\n",
      "car_company_renault       float64\n",
      "car_company_subaru        float64\n",
      "dtype: object\n",
      "                  Features    VIF\n",
      "4             fueltype_gas    inf\n",
      "5      enginelocation_rear    inf\n",
      "7          enginetype_ohcf    inf\n",
      "9           fuelsystem_idi    inf\n",
      "15      car_company_subaru    inf\n",
      "3         compressionratio  42.32\n",
      "13     car_company_peugeot   9.73\n",
      "6             enginetype_l   8.99\n",
      "1                 carwidth   3.38\n",
      "2               enginesize   3.30\n",
      "8         enginetype_rotor   1.55\n",
      "11       car_company_mazda   1.50\n",
      "12  car_company_mitsubishi   1.20\n",
      "10         car_company_bmw   1.12\n",
      "14     car_company_renault   1.01\n",
      "0                    const   0.00\n"
     ]
    }
   ],
   "source": [
    "import pandas as pd\n",
    "import numpy as np\n",
    "from statsmodels.tools.tools import add_constant\n",
    "from statsmodels.stats.outliers_influence import variance_inflation_factor\n",
    "\n",
    "# Step 1: Make sure all columns are numeric\n",
    "X2 = X2.apply(pd.to_numeric, errors='coerce')\n",
    "\n",
    "# Step 2: Drop any rows with NaNs (if any values failed coercion)\n",
    "X2 = X2.dropna()\n",
    "\n",
    "# Step 3: Double check no non-numeric dtypes remain\n",
    "print(X2.dtypes)\n",
    "\n",
    "# Step 4: Add constant and convert to numpy array of type float\n",
    "X2_const = add_constant(X2)\n",
    "X2_const = X2_const.astype(float)  # Force float type to avoid TypeError\n",
    "\n",
    "# Step 5: Calculate VIF\n",
    "vif = pd.DataFrame()\n",
    "vif[\"Features\"] = X2_const.columns\n",
    "vif[\"VIF\"] = [variance_inflation_factor(X2_const.values, i) for i in range(X2_const.shape[1])]\n",
    "vif[\"VIF\"] = round(vif[\"VIF\"], 2)\n",
    "\n",
    "print(vif.sort_values(by=\"VIF\", ascending=False))\n"
   ]
  },
  {
   "cell_type": "markdown",
   "metadata": {},
   "source": [
    "#### As we see, still there are columns with high VIF. Let us drop column car_company_subaru."
   ]
  },
  {
   "cell_type": "markdown",
   "metadata": {},
   "source": [
    "## Model 3"
   ]
  },
  {
   "cell_type": "code",
   "execution_count": 112,
   "metadata": {},
   "outputs": [
    {
     "name": "stdout",
     "output_type": "stream",
     "text": [
      "                            OLS Regression Results                            \n",
      "==============================================================================\n",
      "Dep. Variable:                  price   R-squared:                       0.920\n",
      "Model:                            OLS   Adj. R-squared:                  0.912\n",
      "Method:                 Least Squares   F-statistic:                     114.1\n",
      "Date:                Fri, 25 Apr 2025   Prob (F-statistic):           4.59e-64\n",
      "Time:                        11:59:21   Log-Likelihood:                -22.314\n",
      "No. Observations:                 143   AIC:                             72.63\n",
      "Df Residuals:                     129   BIC:                             114.1\n",
      "Df Model:                          13                                         \n",
      "Covariance Type:            nonrobust                                         \n",
      "==========================================================================================\n",
      "                             coef    std err          t      P>|t|      [0.025      0.975]\n",
      "------------------------------------------------------------------------------------------\n",
      "const                      0.4776      0.162      2.940      0.004       0.156       0.799\n",
      "carwidth                   0.4304      0.046      9.403      0.000       0.340       0.521\n",
      "enginesize                 0.4790      0.045     10.594      0.000       0.390       0.568\n",
      "compressionratio          -0.4505      0.162     -2.781      0.006      -0.771      -0.130\n",
      "fueltype_gas              -0.6269      0.208     -3.016      0.003      -1.038      -0.216\n",
      "enginelocation_rear        1.4894      0.211      7.071      0.000       1.073       1.906\n",
      "enginetype_l               0.8983      0.307      2.921      0.004       0.290       1.507\n",
      "enginetype_ohcf            0.6436      0.109      5.905      0.000       0.428       0.859\n",
      "enginetype_rotor           0.9536      0.188      5.076      0.000       0.582       1.325\n",
      "fuelsystem_idi             1.1045      0.369      2.995      0.003       0.375       1.834\n",
      "car_company_bmw            1.0678      0.131      8.141      0.000       0.808       1.327\n",
      "car_company_mazda         -0.2439      0.106     -2.299      0.023      -0.454      -0.034\n",
      "car_company_mitsubishi    -0.3956      0.112     -3.517      0.001      -0.618      -0.173\n",
      "car_company_peugeot       -1.4098      0.338     -4.171      0.000      -2.079      -0.741\n",
      "car_company_renault       -0.6778      0.214     -3.173      0.002      -1.100      -0.255\n",
      "car_company_subaru        -0.8458      0.122     -6.915      0.000      -1.088      -0.604\n",
      "==============================================================================\n",
      "Omnibus:                        8.408   Durbin-Watson:                   1.997\n",
      "Prob(Omnibus):                  0.015   Jarque-Bera (JB):                9.825\n",
      "Skew:                           0.399   Prob(JB):                      0.00735\n",
      "Kurtosis:                       4.005   Cond. No.                     3.60e+16\n",
      "==============================================================================\n",
      "\n",
      "Notes:\n",
      "[1] Standard Errors assume that the covariance matrix of the errors is correctly specified.\n",
      "[2] The smallest eigenvalue is 2.23e-31. This might indicate that there are\n",
      "strong multicollinearity problems or that the design matrix is singular.\n"
     ]
    }
   ],
   "source": [
    "X3 = pd.get_dummies(X_train[cols], drop_first=True)  # or however you're defining X3\n",
    "X3 = X3.astype(float)\n",
    "\n",
    "# Clean y_train (remove NaNs)\n",
    "valid_idx = y_train.notna()\n",
    "X3 = X3.loc[valid_idx]\n",
    "y_train_clean = y_train.loc[valid_idx].astype(float)\n",
    "\n",
    "# Add constant to X3\n",
    "X3_sm = sm.add_constant(X3)\n",
    "X3_sm = X3_sm.astype(float)\n",
    "\n",
    "# Fit the model\n",
    "model_3 = sm.OLS(y_train_clean, X3_sm).fit()\n",
    "print(model_3.summary())\n"
   ]
  },
  {
   "cell_type": "code",
   "execution_count": 113,
   "metadata": {},
   "outputs": [
    {
     "name": "stdout",
     "output_type": "stream",
     "text": [
      "const                     float64\n",
      "carwidth                  float64\n",
      "enginesize                float64\n",
      "compressionratio          float64\n",
      "fueltype_gas              float64\n",
      "enginelocation_rear       float64\n",
      "enginetype_l              float64\n",
      "enginetype_ohcf           float64\n",
      "enginetype_rotor          float64\n",
      "fuelsystem_idi            float64\n",
      "car_company_bmw           float64\n",
      "car_company_mazda         float64\n",
      "car_company_mitsubishi    float64\n",
      "car_company_peugeot       float64\n",
      "car_company_renault       float64\n",
      "car_company_subaru        float64\n",
      "dtype: object\n",
      "float64\n"
     ]
    }
   ],
   "source": [
    "print(X3_sm.dtypes)\n",
    "print(y_train.dtypes)\n"
   ]
  },
  {
   "cell_type": "code",
   "execution_count": 115,
   "metadata": {},
   "outputs": [
    {
     "name": "stdout",
     "output_type": "stream",
     "text": [
      "                            OLS Regression Results                            \n",
      "==============================================================================\n",
      "Dep. Variable:                  price   R-squared:                       0.920\n",
      "Model:                            OLS   Adj. R-squared:                  0.912\n",
      "Method:                 Least Squares   F-statistic:                     114.1\n",
      "Date:                Fri, 25 Apr 2025   Prob (F-statistic):           4.59e-64\n",
      "Time:                        12:00:05   Log-Likelihood:                -22.314\n",
      "No. Observations:                 143   AIC:                             72.63\n",
      "Df Residuals:                     129   BIC:                             114.1\n",
      "Df Model:                          13                                         \n",
      "Covariance Type:            nonrobust                                         \n",
      "==========================================================================================\n",
      "                             coef    std err          t      P>|t|      [0.025      0.975]\n",
      "------------------------------------------------------------------------------------------\n",
      "const                      0.4776      0.162      2.940      0.004       0.156       0.799\n",
      "carwidth                   0.4304      0.046      9.403      0.000       0.340       0.521\n",
      "enginesize                 0.4790      0.045     10.594      0.000       0.390       0.568\n",
      "compressionratio          -0.4505      0.162     -2.781      0.006      -0.771      -0.130\n",
      "fueltype_gas              -0.6269      0.208     -3.016      0.003      -1.038      -0.216\n",
      "enginelocation_rear        1.4894      0.211      7.071      0.000       1.073       1.906\n",
      "enginetype_l               0.8983      0.307      2.921      0.004       0.290       1.507\n",
      "enginetype_ohcf            0.6436      0.109      5.905      0.000       0.428       0.859\n",
      "enginetype_rotor           0.9536      0.188      5.076      0.000       0.582       1.325\n",
      "fuelsystem_idi             1.1045      0.369      2.995      0.003       0.375       1.834\n",
      "car_company_bmw            1.0678      0.131      8.141      0.000       0.808       1.327\n",
      "car_company_mazda         -0.2439      0.106     -2.299      0.023      -0.454      -0.034\n",
      "car_company_mitsubishi    -0.3956      0.112     -3.517      0.001      -0.618      -0.173\n",
      "car_company_peugeot       -1.4098      0.338     -4.171      0.000      -2.079      -0.741\n",
      "car_company_renault       -0.6778      0.214     -3.173      0.002      -1.100      -0.255\n",
      "car_company_subaru        -0.8458      0.122     -6.915      0.000      -1.088      -0.604\n",
      "==============================================================================\n",
      "Omnibus:                        8.408   Durbin-Watson:                   1.997\n",
      "Prob(Omnibus):                  0.015   Jarque-Bera (JB):                9.825\n",
      "Skew:                           0.399   Prob(JB):                      0.00735\n",
      "Kurtosis:                       4.005   Cond. No.                     3.60e+16\n",
      "==============================================================================\n",
      "\n",
      "Notes:\n",
      "[1] Standard Errors assume that the covariance matrix of the errors is correctly specified.\n",
      "[2] The smallest eigenvalue is 2.23e-31. This might indicate that there are\n",
      "strong multicollinearity problems or that the design matrix is singular.\n"
     ]
    }
   ],
   "source": [
    "print(model_3.summary())\n"
   ]
  },
  {
   "cell_type": "code",
   "execution_count": 116,
   "metadata": {},
   "outputs": [
    {
     "name": "stdout",
     "output_type": "stream",
     "text": [
      "Data types of X3 columns:\n",
      "carwidth                  float64\n",
      "enginesize                float64\n",
      "compressionratio          float64\n",
      "fueltype_gas              float64\n",
      "enginelocation_rear       float64\n",
      "enginetype_l              float64\n",
      "enginetype_ohcf           float64\n",
      "enginetype_rotor          float64\n",
      "fuelsystem_idi            float64\n",
      "car_company_bmw           float64\n",
      "car_company_mazda         float64\n",
      "car_company_mitsubishi    float64\n",
      "car_company_peugeot       float64\n",
      "car_company_renault       float64\n",
      "car_company_subaru        float64\n",
      "dtype: object\n",
      "\n",
      "Number of NaN values per column:\n",
      "carwidth                  0\n",
      "enginesize                0\n",
      "compressionratio          0\n",
      "fueltype_gas              0\n",
      "enginelocation_rear       0\n",
      "enginetype_l              0\n",
      "enginetype_ohcf           0\n",
      "enginetype_rotor          0\n",
      "fuelsystem_idi            0\n",
      "car_company_bmw           0\n",
      "car_company_mazda         0\n",
      "car_company_mitsubishi    0\n",
      "car_company_peugeot       0\n",
      "car_company_renault       0\n",
      "car_company_subaru        0\n",
      "dtype: int64\n",
      "\n",
      "Number of infinite values per column:\n",
      "carwidth                  0\n",
      "enginesize                0\n",
      "compressionratio          0\n",
      "fueltype_gas              0\n",
      "enginelocation_rear       0\n",
      "enginetype_l              0\n",
      "enginetype_ohcf           0\n",
      "enginetype_rotor          0\n",
      "fuelsystem_idi            0\n",
      "car_company_bmw           0\n",
      "car_company_mazda         0\n",
      "car_company_mitsubishi    0\n",
      "car_company_peugeot       0\n",
      "car_company_renault       0\n",
      "car_company_subaru        0\n",
      "dtype: int64\n",
      "\n",
      "Final check for NaN values after replacements:\n",
      "carwidth                  0\n",
      "enginesize                0\n",
      "compressionratio          0\n",
      "fueltype_gas              0\n",
      "enginelocation_rear       0\n",
      "enginetype_l              0\n",
      "enginetype_ohcf           0\n",
      "enginetype_rotor          0\n",
      "fuelsystem_idi            0\n",
      "car_company_bmw           0\n",
      "car_company_mazda         0\n",
      "car_company_mitsubishi    0\n",
      "car_company_peugeot       0\n",
      "car_company_renault       0\n",
      "car_company_subaru        0\n",
      "dtype: int64\n",
      "\n",
      "Data types after selecting numeric columns:\n",
      "carwidth                  float64\n",
      "enginesize                float64\n",
      "compressionratio          float64\n",
      "fueltype_gas              float64\n",
      "enginelocation_rear       float64\n",
      "enginetype_l              float64\n",
      "enginetype_ohcf           float64\n",
      "enginetype_rotor          float64\n",
      "fuelsystem_idi            float64\n",
      "car_company_bmw           float64\n",
      "car_company_mazda         float64\n",
      "car_company_mitsubishi    float64\n",
      "car_company_peugeot       float64\n",
      "car_company_renault       float64\n",
      "car_company_subaru        float64\n",
      "dtype: object\n",
      "\n",
      "Variance Inflation Factors:\n",
      "                  Features    VIF\n",
      "4      enginelocation_rear    inf\n",
      "6          enginetype_ohcf    inf\n",
      "14      car_company_subaru    inf\n",
      "2         compressionratio  42.32\n",
      "8           fuelsystem_idi  41.28\n",
      "12     car_company_peugeot   9.73\n",
      "5             enginetype_l   8.99\n",
      "3             fueltype_gas   4.60\n",
      "0                 carwidth   3.38\n",
      "1               enginesize   3.30\n",
      "7         enginetype_rotor   1.55\n",
      "10       car_company_mazda   1.50\n",
      "11  car_company_mitsubishi   1.20\n",
      "9          car_company_bmw   1.12\n",
      "13     car_company_renault   1.01\n"
     ]
    }
   ],
   "source": [
    "import numpy as np\n",
    "import pandas as pd\n",
    "from statsmodels.stats.outliers_influence import variance_inflation_factor\n",
    "\n",
    "# Check the data types of X3\n",
    "print(\"Data types of X3 columns:\")\n",
    "print(X3.dtypes)\n",
    "\n",
    "# Convert all columns to numeric, forcing errors to NaN\n",
    "X3 = X3.apply(pd.to_numeric, errors='coerce')\n",
    "\n",
    "# Check for any NaN values after conversion\n",
    "print(\"\\nNumber of NaN values per column:\")\n",
    "print(X3.isna().sum())\n",
    "\n",
    "# Handle NaN values by replacing them with the column mean\n",
    "X3.fillna(X3.mean(), inplace=True)\n",
    "\n",
    "# Check for any infinite values\n",
    "print(\"\\nNumber of infinite values per column:\")\n",
    "print(np.isinf(X3).sum())\n",
    "\n",
    "# Replace infinite values with NaN and then fill them with the column mean\n",
    "X3.replace([np.inf, -np.inf], np.nan, inplace=True)\n",
    "X3.fillna(X3.mean(), inplace=True)\n",
    "\n",
    "# Check again for NaN values\n",
    "print(\"\\nFinal check for NaN values after replacements:\")\n",
    "print(X3.isna().sum())\n",
    "\n",
    "# Ensure that X3 only contains numeric columns\n",
    "X3_numeric = X3.select_dtypes(include=[np.number])\n",
    "\n",
    "# Check that the data now only contains numeric columns\n",
    "print(\"\\nData types after selecting numeric columns:\")\n",
    "print(X3_numeric.dtypes)\n",
    "\n",
    "# Now calculate the Variance Inflation Factor (VIF) using only numeric columns\n",
    "vif = pd.DataFrame()\n",
    "vif['Features'] = X3_numeric.columns\n",
    "vif['VIF'] = [variance_inflation_factor(X3_numeric.values, i) for i in range(X3_numeric.shape[1])]\n",
    "vif['VIF'] = round(vif['VIF'], 2)\n",
    "\n",
    "# Sort VIF values in descending order\n",
    "vif = vif.sort_values(by='VIF', ascending=False)\n",
    "\n",
    "print(\"\\nVariance Inflation Factors:\")\n",
    "print(vif)\n"
   ]
  },
  {
   "cell_type": "markdown",
   "metadata": {},
   "source": [
    "#### Droppping the column enginetype_ohcf."
   ]
  },
  {
   "cell_type": "markdown",
   "metadata": {},
   "source": [
    "## Model 4"
   ]
  },
  {
   "cell_type": "code",
   "execution_count": 118,
   "metadata": {},
   "outputs": [
    {
     "name": "stdout",
     "output_type": "stream",
     "text": [
      "                            OLS Regression Results                            \n",
      "==============================================================================\n",
      "Dep. Variable:                  price   R-squared:                       0.920\n",
      "Model:                            OLS   Adj. R-squared:                  0.912\n",
      "Method:                 Least Squares   F-statistic:                     114.1\n",
      "Date:                Fri, 25 Apr 2025   Prob (F-statistic):           4.59e-64\n",
      "Time:                        12:00:47   Log-Likelihood:                -22.314\n",
      "No. Observations:                 143   AIC:                             72.63\n",
      "Df Residuals:                     129   BIC:                             114.1\n",
      "Df Model:                          13                                         \n",
      "Covariance Type:            nonrobust                                         \n",
      "==========================================================================================\n",
      "                             coef    std err          t      P>|t|      [0.025      0.975]\n",
      "------------------------------------------------------------------------------------------\n",
      "const                      0.4776      0.162      2.940      0.004       0.156       0.799\n",
      "carwidth                   0.4304      0.046      9.403      0.000       0.340       0.521\n",
      "enginesize                 0.4790      0.045     10.594      0.000       0.390       0.568\n",
      "compressionratio          -0.4505      0.162     -2.781      0.006      -0.771      -0.130\n",
      "fueltype_gas              -0.6269      0.208     -3.016      0.003      -1.038      -0.216\n",
      "enginelocation_rear        1.4894      0.211      7.071      0.000       1.073       1.906\n",
      "enginetype_l               0.8983      0.307      2.921      0.004       0.290       1.507\n",
      "enginetype_ohcf            0.6436      0.109      5.905      0.000       0.428       0.859\n",
      "enginetype_rotor           0.9536      0.188      5.076      0.000       0.582       1.325\n",
      "fuelsystem_idi             1.1045      0.369      2.995      0.003       0.375       1.834\n",
      "car_company_bmw            1.0678      0.131      8.141      0.000       0.808       1.327\n",
      "car_company_mazda         -0.2439      0.106     -2.299      0.023      -0.454      -0.034\n",
      "car_company_mitsubishi    -0.3956      0.112     -3.517      0.001      -0.618      -0.173\n",
      "car_company_peugeot       -1.4098      0.338     -4.171      0.000      -2.079      -0.741\n",
      "car_company_renault       -0.6778      0.214     -3.173      0.002      -1.100      -0.255\n",
      "car_company_subaru        -0.8458      0.122     -6.915      0.000      -1.088      -0.604\n",
      "==============================================================================\n",
      "Omnibus:                        8.408   Durbin-Watson:                   1.997\n",
      "Prob(Omnibus):                  0.015   Jarque-Bera (JB):                9.825\n",
      "Skew:                           0.399   Prob(JB):                      0.00735\n",
      "Kurtosis:                       4.005   Cond. No.                     3.60e+16\n",
      "==============================================================================\n",
      "\n",
      "Notes:\n",
      "[1] Standard Errors assume that the covariance matrix of the errors is correctly specified.\n",
      "[2] The smallest eigenvalue is 2.23e-31. This might indicate that there are\n",
      "strong multicollinearity problems or that the design matrix is singular.\n"
     ]
    }
   ],
   "source": [
    "# Step 1: Create X4 (your feature set)\n",
    "X4 = pd.get_dummies(X_train[cols], drop_first=True)\n",
    "\n",
    "# Step 2: Add constant for intercept\n",
    "X4_sm = sm.add_constant(X4)\n",
    "\n",
    "# Step 3: Convert boolean columns to integers (0/1)\n",
    "X4_sm = X4_sm.apply(lambda col: col.astype(int) if col.dtype == 'bool' else col)\n",
    "\n",
    "# Step 4: Convert everything to float (recommended for statsmodels)\n",
    "X4_sm = X4_sm.astype(float)\n",
    "\n",
    "# Step 5: Clean y_train (remove NaNs)\n",
    "valid_idx = y_train.notna()\n",
    "X4_sm = X4_sm.loc[valid_idx]\n",
    "y_train_clean = y_train.loc[valid_idx].astype(float)\n",
    "\n",
    "# Step 6: Fit model\n",
    "model_4 = sm.OLS(y_train_clean, X4_sm).fit()\n",
    "\n",
    "# Step 7: Show summary\n",
    "print(model_4.summary())\n"
   ]
  },
  {
   "cell_type": "code",
   "execution_count": 119,
   "metadata": {},
   "outputs": [
    {
     "name": "stdout",
     "output_type": "stream",
     "text": [
      "                            OLS Regression Results                            \n",
      "==============================================================================\n",
      "Dep. Variable:                  price   R-squared:                       0.920\n",
      "Model:                            OLS   Adj. R-squared:                  0.912\n",
      "Method:                 Least Squares   F-statistic:                     114.1\n",
      "Date:                Fri, 25 Apr 2025   Prob (F-statistic):           4.59e-64\n",
      "Time:                        12:00:50   Log-Likelihood:                -22.314\n",
      "No. Observations:                 143   AIC:                             72.63\n",
      "Df Residuals:                     129   BIC:                             114.1\n",
      "Df Model:                          13                                         \n",
      "Covariance Type:            nonrobust                                         \n",
      "==========================================================================================\n",
      "                             coef    std err          t      P>|t|      [0.025      0.975]\n",
      "------------------------------------------------------------------------------------------\n",
      "const                      0.4776      0.162      2.940      0.004       0.156       0.799\n",
      "carwidth                   0.4304      0.046      9.403      0.000       0.340       0.521\n",
      "enginesize                 0.4790      0.045     10.594      0.000       0.390       0.568\n",
      "compressionratio          -0.4505      0.162     -2.781      0.006      -0.771      -0.130\n",
      "fueltype_gas              -0.6269      0.208     -3.016      0.003      -1.038      -0.216\n",
      "enginelocation_rear        1.4894      0.211      7.071      0.000       1.073       1.906\n",
      "enginetype_l               0.8983      0.307      2.921      0.004       0.290       1.507\n",
      "enginetype_ohcf            0.6436      0.109      5.905      0.000       0.428       0.859\n",
      "enginetype_rotor           0.9536      0.188      5.076      0.000       0.582       1.325\n",
      "fuelsystem_idi             1.1045      0.369      2.995      0.003       0.375       1.834\n",
      "car_company_bmw            1.0678      0.131      8.141      0.000       0.808       1.327\n",
      "car_company_mazda         -0.2439      0.106     -2.299      0.023      -0.454      -0.034\n",
      "car_company_mitsubishi    -0.3956      0.112     -3.517      0.001      -0.618      -0.173\n",
      "car_company_peugeot       -1.4098      0.338     -4.171      0.000      -2.079      -0.741\n",
      "car_company_renault       -0.6778      0.214     -3.173      0.002      -1.100      -0.255\n",
      "car_company_subaru        -0.8458      0.122     -6.915      0.000      -1.088      -0.604\n",
      "==============================================================================\n",
      "Omnibus:                        8.408   Durbin-Watson:                   1.997\n",
      "Prob(Omnibus):                  0.015   Jarque-Bera (JB):                9.825\n",
      "Skew:                           0.399   Prob(JB):                      0.00735\n",
      "Kurtosis:                       4.005   Cond. No.                     3.60e+16\n",
      "==============================================================================\n",
      "\n",
      "Notes:\n",
      "[1] Standard Errors assume that the covariance matrix of the errors is correctly specified.\n",
      "[2] The smallest eigenvalue is 2.23e-31. This might indicate that there are\n",
      "strong multicollinearity problems or that the design matrix is singular.\n"
     ]
    }
   ],
   "source": [
    "print(model_4.summary())"
   ]
  },
  {
   "cell_type": "code",
   "execution_count": 120,
   "metadata": {},
   "outputs": [
    {
     "name": "stdout",
     "output_type": "stream",
     "text": [
      "                  Features    VIF\n",
      "4      enginelocation_rear    inf\n",
      "6          enginetype_ohcf    inf\n",
      "14      car_company_subaru    inf\n",
      "2         compressionratio  42.32\n",
      "8           fuelsystem_idi  41.28\n",
      "12     car_company_peugeot   9.73\n",
      "5             enginetype_l   8.99\n",
      "3             fueltype_gas   4.60\n",
      "0                 carwidth   3.38\n",
      "1               enginesize   3.30\n",
      "7         enginetype_rotor   1.55\n",
      "10       car_company_mazda   1.50\n",
      "11  car_company_mitsubishi   1.20\n",
      "9          car_company_bmw   1.12\n",
      "13     car_company_renault   1.01\n"
     ]
    }
   ],
   "source": [
    "# Convert all boolean columns to integers (if any)\n",
    "X4 = X4.apply(lambda col: col.astype(int) if col.dtype == 'bool' else col)\n",
    "\n",
    "# Make sure all values are finite (no NaN or inf)\n",
    "if not np.isfinite(X4.values).all():\n",
    "    print(\"X4 contains NaN or inf values. Please check your data.\")\n",
    "else:\n",
    "    # Proceed with VIF calculation\n",
    "    vif = pd.DataFrame()\n",
    "    vif['Features'] = X4.columns\n",
    "    vif['VIF'] = [variance_inflation_factor(X4.values, i) for i in range(X4.shape[1])]\n",
    "    vif['VIF'] = round(vif['VIF'], 2)\n",
    "    vif = vif.sort_values(by='VIF', ascending=False)\n",
    "    print(vif)\n"
   ]
  },
  {
   "cell_type": "markdown",
   "metadata": {},
   "source": [
    "#### VIF for car_company_peugeot is still high. Let us drop this column and rebuild the model."
   ]
  },
  {
   "cell_type": "markdown",
   "metadata": {},
   "source": [
    "## Model 5"
   ]
  },
  {
   "cell_type": "code",
   "execution_count": 121,
   "metadata": {},
   "outputs": [],
   "source": [
    "X5 = X4.drop(['car_company_peugeot'], axis =1)\n",
    "X5_sm = sm.add_constant(X5)\n",
    "\n",
    "Model_5 = sm.OLS(y_train,X5_sm).fit()"
   ]
  },
  {
   "cell_type": "code",
   "execution_count": 122,
   "metadata": {},
   "outputs": [
    {
     "name": "stdout",
     "output_type": "stream",
     "text": [
      "                            OLS Regression Results                            \n",
      "==============================================================================\n",
      "Dep. Variable:                  price   R-squared:                       0.909\n",
      "Model:                            OLS   Adj. R-squared:                  0.901\n",
      "Method:                 Least Squares   F-statistic:                     108.5\n",
      "Date:                Fri, 25 Apr 2025   Prob (F-statistic):           1.41e-61\n",
      "Time:                        12:00:56   Log-Likelihood:                -31.357\n",
      "No. Observations:                 143   AIC:                             88.71\n",
      "Df Residuals:                     130   BIC:                             127.2\n",
      "Df Model:                          12                                         \n",
      "Covariance Type:            nonrobust                                         \n",
      "==========================================================================================\n",
      "                             coef    std err          t      P>|t|      [0.025      0.975]\n",
      "------------------------------------------------------------------------------------------\n",
      "const                      0.3765      0.170      2.209      0.029       0.039       0.714\n",
      "carwidth                   0.3843      0.047      8.154      0.000       0.291       0.478\n",
      "enginesize                 0.5022      0.048     10.547      0.000       0.408       0.596\n",
      "compressionratio          -0.3566      0.170     -2.095      0.038      -0.693      -0.020\n",
      "fueltype_gas              -0.4991      0.218     -2.288      0.024      -0.931      -0.067\n",
      "enginelocation_rear        1.4437      0.223      6.468      0.000       1.002       1.885\n",
      "enginetype_l              -0.2882      0.124     -2.328      0.021      -0.533      -0.043\n",
      "enginetype_ohcf            0.6195      0.116      5.364      0.000       0.391       0.848\n",
      "enginetype_rotor           0.9613      0.199      4.822      0.000       0.567       1.356\n",
      "fuelsystem_idi             0.8756      0.387      2.262      0.025       0.110       1.641\n",
      "car_company_bmw            1.0685      0.139      7.676      0.000       0.793       1.344\n",
      "car_company_mazda         -0.2354      0.113     -2.091      0.038      -0.458      -0.013\n",
      "car_company_mitsubishi    -0.3817      0.119     -3.199      0.002      -0.618      -0.146\n",
      "car_company_renault       -0.6602      0.227     -2.913      0.004      -1.109      -0.212\n",
      "car_company_subaru        -0.8242      0.130     -6.356      0.000      -1.081      -0.568\n",
      "==============================================================================\n",
      "Omnibus:                       17.877   Durbin-Watson:                   2.040\n",
      "Prob(Omnibus):                  0.000   Jarque-Bera (JB):               25.092\n",
      "Skew:                           0.689   Prob(JB):                     3.56e-06\n",
      "Kurtosis:                       4.521   Cond. No.                     3.63e+16\n",
      "==============================================================================\n",
      "\n",
      "Notes:\n",
      "[1] Standard Errors assume that the covariance matrix of the errors is correctly specified.\n",
      "[2] The smallest eigenvalue is 2.19e-31. This might indicate that there are\n",
      "strong multicollinearity problems or that the design matrix is singular.\n"
     ]
    }
   ],
   "source": [
    "print(Model_5.summary())"
   ]
  },
  {
   "cell_type": "code",
   "execution_count": 123,
   "metadata": {},
   "outputs": [
    {
     "data": {
      "text/html": [
       "<div>\n",
       "<style scoped>\n",
       "    .dataframe tbody tr th:only-of-type {\n",
       "        vertical-align: middle;\n",
       "    }\n",
       "\n",
       "    .dataframe tbody tr th {\n",
       "        vertical-align: top;\n",
       "    }\n",
       "\n",
       "    .dataframe thead th {\n",
       "        text-align: right;\n",
       "    }\n",
       "</style>\n",
       "<table border=\"1\" class=\"dataframe\">\n",
       "  <thead>\n",
       "    <tr style=\"text-align: right;\">\n",
       "      <th></th>\n",
       "      <th>Features</th>\n",
       "      <th>VIF</th>\n",
       "    </tr>\n",
       "  </thead>\n",
       "  <tbody>\n",
       "    <tr>\n",
       "      <th>4</th>\n",
       "      <td>enginelocation_rear</td>\n",
       "      <td>inf</td>\n",
       "    </tr>\n",
       "    <tr>\n",
       "      <th>6</th>\n",
       "      <td>enginetype_ohcf</td>\n",
       "      <td>inf</td>\n",
       "    </tr>\n",
       "    <tr>\n",
       "      <th>13</th>\n",
       "      <td>car_company_subaru</td>\n",
       "      <td>inf</td>\n",
       "    </tr>\n",
       "    <tr>\n",
       "      <th>2</th>\n",
       "      <td>compressionratio</td>\n",
       "      <td>41.50</td>\n",
       "    </tr>\n",
       "    <tr>\n",
       "      <th>8</th>\n",
       "      <td>fuelsystem_idi</td>\n",
       "      <td>40.36</td>\n",
       "    </tr>\n",
       "    <tr>\n",
       "      <th>3</th>\n",
       "      <td>fueltype_gas</td>\n",
       "      <td>4.54</td>\n",
       "    </tr>\n",
       "    <tr>\n",
       "      <th>1</th>\n",
       "      <td>enginesize</td>\n",
       "      <td>3.25</td>\n",
       "    </tr>\n",
       "    <tr>\n",
       "      <th>0</th>\n",
       "      <td>carwidth</td>\n",
       "      <td>3.18</td>\n",
       "    </tr>\n",
       "    <tr>\n",
       "      <th>7</th>\n",
       "      <td>enginetype_rotor</td>\n",
       "      <td>1.55</td>\n",
       "    </tr>\n",
       "    <tr>\n",
       "      <th>10</th>\n",
       "      <td>car_company_mazda</td>\n",
       "      <td>1.50</td>\n",
       "    </tr>\n",
       "    <tr>\n",
       "      <th>5</th>\n",
       "      <td>enginetype_l</td>\n",
       "      <td>1.29</td>\n",
       "    </tr>\n",
       "    <tr>\n",
       "      <th>11</th>\n",
       "      <td>car_company_mitsubishi</td>\n",
       "      <td>1.20</td>\n",
       "    </tr>\n",
       "    <tr>\n",
       "      <th>9</th>\n",
       "      <td>car_company_bmw</td>\n",
       "      <td>1.12</td>\n",
       "    </tr>\n",
       "    <tr>\n",
       "      <th>12</th>\n",
       "      <td>car_company_renault</td>\n",
       "      <td>1.01</td>\n",
       "    </tr>\n",
       "  </tbody>\n",
       "</table>\n",
       "</div>"
      ],
      "text/plain": [
       "                  Features    VIF\n",
       "4      enginelocation_rear    inf\n",
       "6          enginetype_ohcf    inf\n",
       "13      car_company_subaru    inf\n",
       "2         compressionratio  41.50\n",
       "8           fuelsystem_idi  40.36\n",
       "3             fueltype_gas   4.54\n",
       "1               enginesize   3.25\n",
       "0                 carwidth   3.18\n",
       "7         enginetype_rotor   1.55\n",
       "10       car_company_mazda   1.50\n",
       "5             enginetype_l   1.29\n",
       "11  car_company_mitsubishi   1.20\n",
       "9          car_company_bmw   1.12\n",
       "12     car_company_renault   1.01"
      ]
     },
     "execution_count": 123,
     "metadata": {},
     "output_type": "execute_result"
    }
   ],
   "source": [
    "vif = pd.DataFrame()\n",
    "vif['Features'] = X5.columns\n",
    "vif['VIF'] = [variance_inflation_factor(X5.values, i) for i in range(X5.shape[1])]\n",
    "vif['VIF'] = round(vif['VIF'], 2)\n",
    "vif = vif.sort_values(by = 'VIF', ascending = False)\n",
    "vif"
   ]
  },
  {
   "cell_type": "markdown",
   "metadata": {},
   "source": [
    "#### Let us drop the column enginetype_1"
   ]
  },
  {
   "cell_type": "markdown",
   "metadata": {},
   "source": [
    "## Model 6"
   ]
  },
  {
   "cell_type": "code",
   "execution_count": 124,
   "metadata": {},
   "outputs": [],
   "source": [
    "X6 = X5.drop(['enginetype_l'], axis =1)\n",
    "X6_sm = sm.add_constant(X6)\n",
    "\n",
    "Model_6 = sm.OLS(y_train,X6_sm).fit()"
   ]
  },
  {
   "cell_type": "code",
   "execution_count": 125,
   "metadata": {},
   "outputs": [
    {
     "name": "stdout",
     "output_type": "stream",
     "text": [
      "                            OLS Regression Results                            \n",
      "==============================================================================\n",
      "Dep. Variable:                  price   R-squared:                       0.905\n",
      "Model:                            OLS   Adj. R-squared:                  0.897\n",
      "Method:                 Least Squares   F-statistic:                     114.0\n",
      "Date:                Fri, 25 Apr 2025   Prob (F-statistic):           1.79e-61\n",
      "Time:                        12:01:01   Log-Likelihood:                -34.277\n",
      "No. Observations:                 143   AIC:                             92.55\n",
      "Df Residuals:                     131   BIC:                             128.1\n",
      "Df Model:                          11                                         \n",
      "Covariance Type:            nonrobust                                         \n",
      "==========================================================================================\n",
      "                             coef    std err          t      P>|t|      [0.025      0.975]\n",
      "------------------------------------------------------------------------------------------\n",
      "const                      0.2390      0.163      1.470      0.144      -0.083       0.560\n",
      "carwidth                   0.3680      0.047      7.765      0.000       0.274       0.462\n",
      "enginesize                 0.5210      0.048     10.918      0.000       0.427       0.615\n",
      "compressionratio          -0.2479      0.166     -1.489      0.139      -0.577       0.081\n",
      "fueltype_gas              -0.3481      0.212     -1.644      0.103      -0.767       0.071\n",
      "enginelocation_rear        1.4120      0.227      6.234      0.000       0.964       1.860\n",
      "enginetype_ohcf            0.6158      0.117      5.244      0.000       0.383       0.848\n",
      "enginetype_rotor           0.9526      0.203      4.701      0.000       0.552       1.354\n",
      "fuelsystem_idi             0.5871      0.373      1.575      0.118      -0.150       1.325\n",
      "car_company_bmw            1.0816      0.141      7.649      0.000       0.802       1.361\n",
      "car_company_mazda         -0.1983      0.113     -1.750      0.082      -0.422       0.026\n",
      "car_company_mitsubishi    -0.3387      0.120     -2.826      0.005      -0.576      -0.102\n",
      "car_company_renault       -0.6327      0.230     -2.750      0.007      -1.088      -0.178\n",
      "car_company_subaru        -0.7962      0.131     -6.065      0.000      -1.056      -0.537\n",
      "==============================================================================\n",
      "Omnibus:                        8.768   Durbin-Watson:                   2.031\n",
      "Prob(Omnibus):                  0.012   Jarque-Bera (JB):                9.707\n",
      "Skew:                           0.444   Prob(JB):                      0.00780\n",
      "Kurtosis:                       3.917   Cond. No.                     2.83e+16\n",
      "==============================================================================\n",
      "\n",
      "Notes:\n",
      "[1] Standard Errors assume that the covariance matrix of the errors is correctly specified.\n",
      "[2] The smallest eigenvalue is 3.62e-31. This might indicate that there are\n",
      "strong multicollinearity problems or that the design matrix is singular.\n"
     ]
    }
   ],
   "source": [
    "print(Model_6.summary())"
   ]
  },
  {
   "cell_type": "code",
   "execution_count": 126,
   "metadata": {},
   "outputs": [
    {
     "data": {
      "text/html": [
       "<div>\n",
       "<style scoped>\n",
       "    .dataframe tbody tr th:only-of-type {\n",
       "        vertical-align: middle;\n",
       "    }\n",
       "\n",
       "    .dataframe tbody tr th {\n",
       "        vertical-align: top;\n",
       "    }\n",
       "\n",
       "    .dataframe thead th {\n",
       "        text-align: right;\n",
       "    }\n",
       "</style>\n",
       "<table border=\"1\" class=\"dataframe\">\n",
       "  <thead>\n",
       "    <tr style=\"text-align: right;\">\n",
       "      <th></th>\n",
       "      <th>Features</th>\n",
       "      <th>VIF</th>\n",
       "    </tr>\n",
       "  </thead>\n",
       "  <tbody>\n",
       "    <tr>\n",
       "      <th>4</th>\n",
       "      <td>enginelocation_rear</td>\n",
       "      <td>inf</td>\n",
       "    </tr>\n",
       "    <tr>\n",
       "      <th>5</th>\n",
       "      <td>enginetype_ohcf</td>\n",
       "      <td>inf</td>\n",
       "    </tr>\n",
       "    <tr>\n",
       "      <th>12</th>\n",
       "      <td>car_company_subaru</td>\n",
       "      <td>inf</td>\n",
       "    </tr>\n",
       "    <tr>\n",
       "      <th>2</th>\n",
       "      <td>compressionratio</td>\n",
       "      <td>38.38</td>\n",
       "    </tr>\n",
       "    <tr>\n",
       "      <th>7</th>\n",
       "      <td>fuelsystem_idi</td>\n",
       "      <td>36.00</td>\n",
       "    </tr>\n",
       "    <tr>\n",
       "      <th>3</th>\n",
       "      <td>fueltype_gas</td>\n",
       "      <td>4.49</td>\n",
       "    </tr>\n",
       "    <tr>\n",
       "      <th>1</th>\n",
       "      <td>enginesize</td>\n",
       "      <td>3.15</td>\n",
       "    </tr>\n",
       "    <tr>\n",
       "      <th>0</th>\n",
       "      <td>carwidth</td>\n",
       "      <td>3.11</td>\n",
       "    </tr>\n",
       "    <tr>\n",
       "      <th>6</th>\n",
       "      <td>enginetype_rotor</td>\n",
       "      <td>1.55</td>\n",
       "    </tr>\n",
       "    <tr>\n",
       "      <th>9</th>\n",
       "      <td>car_company_mazda</td>\n",
       "      <td>1.47</td>\n",
       "    </tr>\n",
       "    <tr>\n",
       "      <th>10</th>\n",
       "      <td>car_company_mitsubishi</td>\n",
       "      <td>1.17</td>\n",
       "    </tr>\n",
       "    <tr>\n",
       "      <th>8</th>\n",
       "      <td>car_company_bmw</td>\n",
       "      <td>1.11</td>\n",
       "    </tr>\n",
       "    <tr>\n",
       "      <th>11</th>\n",
       "      <td>car_company_renault</td>\n",
       "      <td>1.01</td>\n",
       "    </tr>\n",
       "  </tbody>\n",
       "</table>\n",
       "</div>"
      ],
      "text/plain": [
       "                  Features    VIF\n",
       "4      enginelocation_rear    inf\n",
       "5          enginetype_ohcf    inf\n",
       "12      car_company_subaru    inf\n",
       "2         compressionratio  38.38\n",
       "7           fuelsystem_idi  36.00\n",
       "3             fueltype_gas   4.49\n",
       "1               enginesize   3.15\n",
       "0                 carwidth   3.11\n",
       "6         enginetype_rotor   1.55\n",
       "9        car_company_mazda   1.47\n",
       "10  car_company_mitsubishi   1.17\n",
       "8          car_company_bmw   1.11\n",
       "11     car_company_renault   1.01"
      ]
     },
     "execution_count": 126,
     "metadata": {},
     "output_type": "execute_result"
    }
   ],
   "source": [
    "vif = pd.DataFrame()\n",
    "vif['Features'] = X6.columns\n",
    "vif['VIF'] = [variance_inflation_factor(X6.values, i) for i in range(X6.shape[1])]\n",
    "vif['VIF'] = round(vif['VIF'], 2)\n",
    "vif = vif.sort_values(by = 'VIF', ascending = False)\n",
    "vif"
   ]
  },
  {
   "cell_type": "markdown",
   "metadata": {},
   "source": [
    "#### All the VIF & p values seem to be in good range."
   ]
  },
  {
   "cell_type": "markdown",
   "metadata": {},
   "source": [
    "# Residual Analysis"
   ]
  },
  {
   "cell_type": "code",
   "execution_count": 127,
   "metadata": {},
   "outputs": [
    {
     "data": {
      "text/plain": [
       "122   -0.750524\n",
       "125    0.669628\n",
       "166   -0.717170\n",
       "1     -0.265974\n",
       "199    0.349353\n",
       "dtype: float64"
      ]
     },
     "execution_count": 127,
     "metadata": {},
     "output_type": "execute_result"
    }
   ],
   "source": [
    "y_train_pred = Model_6.predict(X6_sm)\n",
    "y_train_pred.head()"
   ]
  },
  {
   "cell_type": "code",
   "execution_count": 128,
   "metadata": {},
   "outputs": [],
   "source": [
    "Residual = y_train- y_train_pred"
   ]
  },
  {
   "cell_type": "code",
   "execution_count": 129,
   "metadata": {},
   "outputs": [
    {
     "data": {
      "text/plain": [
       "<AxesSubplot:ylabel='Count'>"
      ]
     },
     "execution_count": 129,
     "metadata": {},
     "output_type": "execute_result"
    },
    {
     "data": {
      "image/png": "[encoded data removed]",
      "text/plain": [
       "<Figure size 432x288 with 1 Axes>"
      ]
     },
     "metadata": {
      "needs_background": "light"
     },
     "output_type": "display_data"
    }
   ],
   "source": [
    "sns.histplot(Residual, bins =15)"
   ]
  },
  {
   "cell_type": "markdown",
   "metadata": {},
   "source": [
    "### Now we need to make predictions on our model."
   ]
  },
  {
   "cell_type": "code",
   "execution_count": 130,
   "metadata": {},
   "outputs": [],
   "source": [
    "df_test[col_list] = scaler.transform(df_test[col_list])"
   ]
  },
  {
   "cell_type": "code",
   "execution_count": 131,
   "metadata": {},
   "outputs": [],
   "source": [
    "y_test = df_test.pop('price')\n",
    "X_test = df_test"
   ]
  },
  {
   "cell_type": "code",
   "execution_count": 132,
   "metadata": {},
   "outputs": [],
   "source": [
    "final_cols = X6.columns"
   ]
  },
  {
   "cell_type": "code",
   "execution_count": 133,
   "metadata": {},
   "outputs": [
    {
     "name": "stdout",
     "output_type": "stream",
     "text": [
      "Index(['symboling', 'doornumber', 'wheelbase', 'carlength', 'carwidth',\n",
      "       'carheight', 'curbweight', 'cylindernumber', 'enginesize', 'boreratio',\n",
      "       'stroke', 'compressionratio', 'horsepower', 'peakrpm', 'citympg',\n",
      "       'highwaympg', 'fueltype_gas', 'aspiration_turbo', 'carbody_hardtop',\n",
      "       'carbody_hatchback', 'carbody_sedan', 'carbody_wagon', 'drivewheel_fwd',\n",
      "       'drivewheel_rwd', 'enginelocation_rear', 'enginetype_dohcv',\n",
      "       'enginetype_l', 'enginetype_ohc', 'enginetype_ohcf', 'enginetype_ohcv',\n",
      "       'enginetype_rotor', 'fuelsystem_2bbl', 'fuelsystem_4bbl',\n",
      "       'fuelsystem_idi', 'fuelsystem_mfi', 'fuelsystem_mpfi',\n",
      "       'fuelsystem_spdi', 'fuelsystem_spfi', 'car_company_audi',\n",
      "       'car_company_bmw', 'car_company_buick', 'car_company_chevrolet',\n",
      "       'car_company_dodge', 'car_company_honda', 'car_company_isuzu',\n",
      "       'car_company_jaguar', 'car_company_mazda', 'car_company_mercury',\n",
      "       'car_company_mitsubishi', 'car_company_nissan', 'car_company_peugeot',\n",
      "       'car_company_plymouth', 'car_company_porsche', 'car_company_renault',\n",
      "       'car_company_saab', 'car_company_subaru', 'car_company_toyota',\n",
      "       'car_company_volkswagen', 'car_company_volvo'],\n",
      "      dtype='object')\n"
     ]
    },
    {
     "data": {
      "text/html": [
       "<div>\n",
       "<style scoped>\n",
       "    .dataframe tbody tr th:only-of-type {\n",
       "        vertical-align: middle;\n",
       "    }\n",
       "\n",
       "    .dataframe tbody tr th {\n",
       "        vertical-align: top;\n",
       "    }\n",
       "\n",
       "    .dataframe thead th {\n",
       "        text-align: right;\n",
       "    }\n",
       "</style>\n",
       "<table border=\"1\" class=\"dataframe\">\n",
       "  <thead>\n",
       "    <tr style=\"text-align: right;\">\n",
       "      <th></th>\n",
       "      <th>carwidth</th>\n",
       "      <th>enginesize</th>\n",
       "      <th>compressionratio</th>\n",
       "      <th>fueltype_gas</th>\n",
       "      <th>enginelocation_rear</th>\n",
       "      <th>enginetype_ohcf</th>\n",
       "      <th>enginetype_rotor</th>\n",
       "      <th>fuelsystem_idi</th>\n",
       "      <th>car_company_bmw</th>\n",
       "      <th>car_company_mazda</th>\n",
       "      <th>car_company_mitsubishi</th>\n",
       "      <th>car_company_renault</th>\n",
       "      <th>car_company_subaru</th>\n",
       "    </tr>\n",
       "  </thead>\n",
       "  <tbody>\n",
       "    <tr>\n",
       "      <th>160</th>\n",
       "      <td>-0.652569</td>\n",
       "      <td>-0.660242</td>\n",
       "      <td>-0.278345</td>\n",
       "      <td>True</td>\n",
       "      <td>False</td>\n",
       "      <td>False</td>\n",
       "      <td>False</td>\n",
       "      <td>False</td>\n",
       "      <td>False</td>\n",
       "      <td>False</td>\n",
       "      <td>False</td>\n",
       "      <td>False</td>\n",
       "      <td>False</td>\n",
       "    </tr>\n",
       "    <tr>\n",
       "      <th>186</th>\n",
       "      <td>-0.154030</td>\n",
       "      <td>-0.390836</td>\n",
       "      <td>-0.278345</td>\n",
       "      <td>True</td>\n",
       "      <td>False</td>\n",
       "      <td>False</td>\n",
       "      <td>False</td>\n",
       "      <td>False</td>\n",
       "      <td>False</td>\n",
       "      <td>False</td>\n",
       "      <td>False</td>\n",
       "      <td>False</td>\n",
       "      <td>False</td>\n",
       "    </tr>\n",
       "    <tr>\n",
       "      <th>59</th>\n",
       "      <td>0.299187</td>\n",
       "      <td>-0.072447</td>\n",
       "      <td>-0.384120</td>\n",
       "      <td>True</td>\n",
       "      <td>False</td>\n",
       "      <td>False</td>\n",
       "      <td>False</td>\n",
       "      <td>False</td>\n",
       "      <td>False</td>\n",
       "      <td>True</td>\n",
       "      <td>False</td>\n",
       "      <td>False</td>\n",
       "      <td>False</td>\n",
       "    </tr>\n",
       "    <tr>\n",
       "      <th>165</th>\n",
       "      <td>-0.833856</td>\n",
       "      <td>-0.660242</td>\n",
       "      <td>-0.172569</td>\n",
       "      <td>True</td>\n",
       "      <td>False</td>\n",
       "      <td>False</td>\n",
       "      <td>False</td>\n",
       "      <td>False</td>\n",
       "      <td>False</td>\n",
       "      <td>False</td>\n",
       "      <td>False</td>\n",
       "      <td>False</td>\n",
       "      <td>False</td>\n",
       "    </tr>\n",
       "    <tr>\n",
       "      <th>140</th>\n",
       "      <td>-0.924500</td>\n",
       "      <td>-0.415328</td>\n",
       "      <td>-0.357676</td>\n",
       "      <td>True</td>\n",
       "      <td>False</td>\n",
       "      <td>True</td>\n",
       "      <td>False</td>\n",
       "      <td>False</td>\n",
       "      <td>False</td>\n",
       "      <td>False</td>\n",
       "      <td>False</td>\n",
       "      <td>False</td>\n",
       "      <td>True</td>\n",
       "    </tr>\n",
       "  </tbody>\n",
       "</table>\n",
       "</div>"
      ],
      "text/plain": [
       "     carwidth  enginesize  compressionratio  fueltype_gas  \\\n",
       "160 -0.652569   -0.660242         -0.278345          True   \n",
       "186 -0.154030   -0.390836         -0.278345          True   \n",
       "59   0.299187   -0.072447         -0.384120          True   \n",
       "165 -0.833856   -0.660242         -0.172569          True   \n",
       "140 -0.924500   -0.415328         -0.357676          True   \n",
       "\n",
       "     enginelocation_rear  enginetype_ohcf  enginetype_rotor  fuelsystem_idi  \\\n",
       "160                False            False             False           False   \n",
       "186                False            False             False           False   \n",
       "59                 False            False             False           False   \n",
       "165                False            False             False           False   \n",
       "140                False             True             False           False   \n",
       "\n",
       "     car_company_bmw  car_company_mazda  car_company_mitsubishi  \\\n",
       "160            False              False                   False   \n",
       "186            False              False                   False   \n",
       "59             False               True                   False   \n",
       "165            False              False                   False   \n",
       "140            False              False                   False   \n",
       "\n",
       "     car_company_renault  car_company_subaru  \n",
       "160                False               False  \n",
       "186                False               False  \n",
       "59                 False               False  \n",
       "165                False               False  \n",
       "140                False                True  "
      ]
     },
     "execution_count": 133,
     "metadata": {},
     "output_type": "execute_result"
    }
   ],
   "source": [
    "import statsmodels.api as sm\n",
    "\n",
    "# Check the columns of X_test\n",
    "print(X_test.columns)\n",
    "\n",
    "# Add a constant column if it's missing\n",
    "if 'const' not in X_test.columns:\n",
    "    X_test = sm.add_constant(X_test)\n",
    "\n",
    "# Now select the columns from X_test using final_cols\n",
    "X_test_model6 = X_test[final_cols]\n",
    "X_test_model6.head()\n"
   ]
  },
  {
   "cell_type": "code",
   "execution_count": 134,
   "metadata": {},
   "outputs": [],
   "source": [
    "X_test_sm = sm.add_constant(X_test_model6)"
   ]
  },
  {
   "cell_type": "code",
   "execution_count": 135,
   "metadata": {},
   "outputs": [],
   "source": [
    "y_pred = Model_6.predict(X_test_sm)"
   ]
  },
  {
   "cell_type": "code",
   "execution_count": 136,
   "metadata": {},
   "outputs": [
    {
     "data": {
      "text/plain": [
       "160   -0.624239\n",
       "186   -0.300439\n",
       "59    -0.139827\n",
       "165    -0.71717\n",
       "140   -0.757524\n",
       "dtype: object"
      ]
     },
     "execution_count": 136,
     "metadata": {},
     "output_type": "execute_result"
    }
   ],
   "source": [
    "y_pred.head()"
   ]
  },
  {
   "cell_type": "code",
   "execution_count": 137,
   "metadata": {},
   "outputs": [
    {
     "data": {
      "text/plain": [
       "Text(0, 0.5, 'y_pred')"
      ]
     },
     "execution_count": 137,
     "metadata": {},
     "output_type": "execute_result"
    },
    {
     "data": {
      "image/png": "[encoded data removed]",
      "text/plain": [
       "<Figure size 432x288 with 1 Axes>"
      ]
     },
     "metadata": {
      "needs_background": "light"
     },
     "output_type": "display_data"
    }
   ],
   "source": [
    "plt.scatter(y_test, y_pred)\n",
    "plt.xlabel('y_test')\n",
    "plt.ylabel('y_pred')"
   ]
  },
  {
   "cell_type": "markdown",
   "metadata": {},
   "source": [
    "#### Though the model is performing better at the beginning, still there are few high values which the model is not able to explain."
   ]
  },
  {
   "cell_type": "markdown",
   "metadata": {},
   "source": [
    "# Model Evaluation"
   ]
  },
  {
   "cell_type": "code",
   "execution_count": 138,
   "metadata": {},
   "outputs": [
    {
     "data": {
      "text/plain": [
       "0.8944694345909372"
      ]
     },
     "execution_count": 138,
     "metadata": {},
     "output_type": "execute_result"
    }
   ],
   "source": [
    "r_squ = r2_score(y_test,y_pred)\n",
    "r_squ"
   ]
  },
  {
   "cell_type": "markdown",
   "metadata": {},
   "source": [
    "## The variables which are significant in predicting the price of a car are: "
   ]
  },
  {
   "cell_type": "markdown",
   "metadata": {},
   "source": [
    "### enginesize, carwidth, enginetype_rotor, car_company_bmw, enginelocation_rear, car_company_renault"
   ]
  },
  {
   "cell_type": "code",
   "execution_count": 139,
   "metadata": {},
   "outputs": [
    {
     "name": "stderr",
     "output_type": "stream",
     "text": [
      "[NbConvertApp] Converting notebook car_price_prediction.ipynb to script\n",
      "[NbConvertApp] Writing 19709 bytes to car_price_prediction.py\n"
     ]
    }
   ],
   "source": [
    "!jupyter nbconvert --to script car_price_prediction.ipynb\n"
   ]
  },
  {
   "cell_type": "code",
   "execution_count": null,
   "metadata": {},
   "outputs": [],
   "source": []
  }
 ],
 "metadata": {
  "kernelspec": {
   "display_name": "Python 3 (ipykernel)",
   "language": "python",
   "name": "python3"
  },
  "language_info": {
   "codemirror_mode": {
    "name": "ipython",
    "version": 3
   },
   "file_extension": ".py",
   "mimetype": "text/x-python",
   "name": "python",
   "nbconvert_exporter": "python",
   "pygments_lexer": "ipython3",
   "version": "3.9.12"
  }
 },
 "nbformat": 4,
 "nbformat_minor": 2
}
